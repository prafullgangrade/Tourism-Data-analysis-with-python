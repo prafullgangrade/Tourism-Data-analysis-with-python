{
 "cells": [
  {
   "cell_type": "markdown",
   "id": "130c7573",
   "metadata": {},
   "source": [
    "# import domestic visitor csv dataset and merge them in one csv"
   ]
  },
  {
   "cell_type": "code",
   "execution_count": 1,
   "id": "4cf3f4d5",
   "metadata": {},
   "outputs": [],
   "source": [
    "#domestic_visitors file read\n",
    "import pandas as pd\n",
    "import glob\n",
    "import numpy as np\n",
    "\n",
    "# Get all the CSV file paths in a folder\n",
    "path = r'H:\\prafull\\LEARNING\\SQL\\CHALLANGES\\C5 Input for participants\\domestic_visitors\\*.csv'\n",
    "files = glob.glob(path)\n",
    "\n",
    "# Create an empty DataFrame to store the merged data\n",
    "merged_data = pd.DataFrame()\n",
    "\n",
    "# Loop through each file and append its data to the merged_data DataFrame\n",
    "for file in files:\n",
    "    data = pd.read_csv(file)\n",
    "    merged_data = pd.concat([merged_data, data], axis=0, ignore_index=True)\n",
    "\n",
    "# Save the merged data to a new CSV file\n",
    "merged_data.to_csv('H:\\prafull\\LEARNING\\SQL\\CHALLANGES\\C5 Input for participants\\domestic_visitors.csv', index=False)"
   ]
  },
  {
   "cell_type": "markdown",
   "id": "15821945",
   "metadata": {},
   "source": [
    "# domestic_visitors file read"
   ]
  },
  {
   "cell_type": "code",
   "execution_count": 2,
   "id": "93ede1c7",
   "metadata": {},
   "outputs": [
    {
     "data": {
      "text/html": [
       "<div>\n",
       "<style scoped>\n",
       "    .dataframe tbody tr th:only-of-type {\n",
       "        vertical-align: middle;\n",
       "    }\n",
       "\n",
       "    .dataframe tbody tr th {\n",
       "        vertical-align: top;\n",
       "    }\n",
       "\n",
       "    .dataframe thead th {\n",
       "        text-align: right;\n",
       "    }\n",
       "</style>\n",
       "<table border=\"1\" class=\"dataframe\">\n",
       "  <thead>\n",
       "    <tr style=\"text-align: right;\">\n",
       "      <th></th>\n",
       "      <th>district</th>\n",
       "      <th>date</th>\n",
       "      <th>month</th>\n",
       "      <th>year</th>\n",
       "      <th>visitors</th>\n",
       "    </tr>\n",
       "  </thead>\n",
       "  <tbody>\n",
       "    <tr>\n",
       "      <th>0</th>\n",
       "      <td>Adilabad</td>\n",
       "      <td>01-01-2016</td>\n",
       "      <td>January</td>\n",
       "      <td>2016</td>\n",
       "      <td>792136</td>\n",
       "    </tr>\n",
       "    <tr>\n",
       "      <th>1</th>\n",
       "      <td>Adilabad</td>\n",
       "      <td>01-02-2016</td>\n",
       "      <td>February</td>\n",
       "      <td>2016</td>\n",
       "      <td>937820</td>\n",
       "    </tr>\n",
       "    <tr>\n",
       "      <th>2</th>\n",
       "      <td>Adilabad</td>\n",
       "      <td>01-03-2016</td>\n",
       "      <td>March</td>\n",
       "      <td>2016</td>\n",
       "      <td>582946</td>\n",
       "    </tr>\n",
       "    <tr>\n",
       "      <th>3</th>\n",
       "      <td>Adilabad</td>\n",
       "      <td>01-04-2016</td>\n",
       "      <td>April</td>\n",
       "      <td>2016</td>\n",
       "      <td>341948</td>\n",
       "    </tr>\n",
       "    <tr>\n",
       "      <th>4</th>\n",
       "      <td>Adilabad</td>\n",
       "      <td>01-05-2016</td>\n",
       "      <td>May</td>\n",
       "      <td>2016</td>\n",
       "      <td>252887</td>\n",
       "    </tr>\n",
       "    <tr>\n",
       "      <th>...</th>\n",
       "      <td>...</td>\n",
       "      <td>...</td>\n",
       "      <td>...</td>\n",
       "      <td>...</td>\n",
       "      <td>...</td>\n",
       "    </tr>\n",
       "    <tr>\n",
       "      <th>1507</th>\n",
       "      <td>Yadadri Bhongir</td>\n",
       "      <td>01-08-2019</td>\n",
       "      <td>August</td>\n",
       "      <td>2019</td>\n",
       "      <td>389010</td>\n",
       "    </tr>\n",
       "    <tr>\n",
       "      <th>1508</th>\n",
       "      <td>Yadadri Bhongir</td>\n",
       "      <td>01-09-2019</td>\n",
       "      <td>September</td>\n",
       "      <td>2019</td>\n",
       "      <td>366862</td>\n",
       "    </tr>\n",
       "    <tr>\n",
       "      <th>1509</th>\n",
       "      <td>Yadadri Bhongir</td>\n",
       "      <td>01-10-2019</td>\n",
       "      <td>October</td>\n",
       "      <td>2019</td>\n",
       "      <td>381860</td>\n",
       "    </tr>\n",
       "    <tr>\n",
       "      <th>1510</th>\n",
       "      <td>Yadadri Bhongir</td>\n",
       "      <td>01-11-2019</td>\n",
       "      <td>November</td>\n",
       "      <td>2019</td>\n",
       "      <td>365990</td>\n",
       "    </tr>\n",
       "    <tr>\n",
       "      <th>1511</th>\n",
       "      <td>Yadadri Bhongir</td>\n",
       "      <td>01-12-2019</td>\n",
       "      <td>December</td>\n",
       "      <td>2019</td>\n",
       "      <td>477635</td>\n",
       "    </tr>\n",
       "  </tbody>\n",
       "</table>\n",
       "<p>1512 rows × 5 columns</p>\n",
       "</div>"
      ],
      "text/plain": [
       "             district        date      month  year visitors\n",
       "0            Adilabad  01-01-2016    January  2016   792136\n",
       "1            Adilabad  01-02-2016   February  2016   937820\n",
       "2            Adilabad  01-03-2016      March  2016   582946\n",
       "3            Adilabad  01-04-2016      April  2016   341948\n",
       "4            Adilabad  01-05-2016        May  2016   252887\n",
       "...               ...         ...        ...   ...      ...\n",
       "1507  Yadadri Bhongir  01-08-2019     August  2019   389010\n",
       "1508  Yadadri Bhongir  01-09-2019  September  2019   366862\n",
       "1509  Yadadri Bhongir  01-10-2019    October  2019   381860\n",
       "1510  Yadadri Bhongir  01-11-2019   November  2019   365990\n",
       "1511  Yadadri Bhongir  01-12-2019   December  2019   477635\n",
       "\n",
       "[1512 rows x 5 columns]"
      ]
     },
     "execution_count": 2,
     "metadata": {},
     "output_type": "execute_result"
    }
   ],
   "source": [
    "#read csv for domestic visitor\n",
    "dv=pd.read_csv('H:\\prafull\\LEARNING\\SQL\\CHALLANGES\\C5 Input for participants\\domestic_visitors.csv')\n",
    "dv"
   ]
  },
  {
   "cell_type": "markdown",
   "id": "487ebcf6",
   "metadata": {},
   "source": [
    "# import domestic visitor csv dataset and merge them in one csv"
   ]
  },
  {
   "cell_type": "code",
   "execution_count": 3,
   "id": "030182a7",
   "metadata": {},
   "outputs": [],
   "source": [
    "#foreign_visitors file read\n",
    "import pandas as pd\n",
    "import glob\n",
    "\n",
    "# Get all the CSV file paths in a folder\n",
    "path = r'H:\\prafull\\LEARNING\\SQL\\CHALLANGES\\C5 Input for participants\\foreign_visitors\\*.csv'\n",
    "files = glob.glob(path)\n",
    "\n",
    "# Create an empty DataFrame to store the merged data\n",
    "merged_data = pd.DataFrame()\n",
    "\n",
    "# Loop through each file and append its data to the merged_data DataFrame\n",
    "for file in files:\n",
    "    data = pd.read_csv(file)\n",
    "    merged_data = pd.concat([merged_data, data], axis=0, ignore_index=True)\n",
    "\n",
    "# Save the merged data to a new CSV file\n",
    "merged_data.to_csv('H:\\prafull\\LEARNING\\SQL\\CHALLANGES\\C5 Input for participants\\\\foreign_visitors.csv', index=False)"
   ]
  },
  {
   "cell_type": "markdown",
   "id": "4e7cc278",
   "metadata": {},
   "source": [
    "# foreign_visitors file read"
   ]
  },
  {
   "cell_type": "code",
   "execution_count": 4,
   "id": "76985e61",
   "metadata": {},
   "outputs": [
    {
     "data": {
      "text/html": [
       "<div>\n",
       "<style scoped>\n",
       "    .dataframe tbody tr th:only-of-type {\n",
       "        vertical-align: middle;\n",
       "    }\n",
       "\n",
       "    .dataframe tbody tr th {\n",
       "        vertical-align: top;\n",
       "    }\n",
       "\n",
       "    .dataframe thead th {\n",
       "        text-align: right;\n",
       "    }\n",
       "</style>\n",
       "<table border=\"1\" class=\"dataframe\">\n",
       "  <thead>\n",
       "    <tr style=\"text-align: right;\">\n",
       "      <th></th>\n",
       "      <th>district</th>\n",
       "      <th>date</th>\n",
       "      <th>month</th>\n",
       "      <th>year</th>\n",
       "      <th>visitors</th>\n",
       "    </tr>\n",
       "  </thead>\n",
       "  <tbody>\n",
       "    <tr>\n",
       "      <th>0</th>\n",
       "      <td>Adilabad</td>\n",
       "      <td>01-01-2016</td>\n",
       "      <td>January</td>\n",
       "      <td>2016</td>\n",
       "      <td>2</td>\n",
       "    </tr>\n",
       "    <tr>\n",
       "      <th>1</th>\n",
       "      <td>Adilabad</td>\n",
       "      <td>01-02-2016</td>\n",
       "      <td>February</td>\n",
       "      <td>2016</td>\n",
       "      <td>0</td>\n",
       "    </tr>\n",
       "    <tr>\n",
       "      <th>2</th>\n",
       "      <td>Adilabad</td>\n",
       "      <td>01-03-2016</td>\n",
       "      <td>March</td>\n",
       "      <td>2016</td>\n",
       "      <td>2</td>\n",
       "    </tr>\n",
       "    <tr>\n",
       "      <th>3</th>\n",
       "      <td>Adilabad</td>\n",
       "      <td>01-04-2016</td>\n",
       "      <td>April</td>\n",
       "      <td>2016</td>\n",
       "      <td>0</td>\n",
       "    </tr>\n",
       "    <tr>\n",
       "      <th>4</th>\n",
       "      <td>Adilabad</td>\n",
       "      <td>01-05-2016</td>\n",
       "      <td>May</td>\n",
       "      <td>2016</td>\n",
       "      <td>0</td>\n",
       "    </tr>\n",
       "    <tr>\n",
       "      <th>...</th>\n",
       "      <td>...</td>\n",
       "      <td>...</td>\n",
       "      <td>...</td>\n",
       "      <td>...</td>\n",
       "      <td>...</td>\n",
       "    </tr>\n",
       "    <tr>\n",
       "      <th>1507</th>\n",
       "      <td>Yadadri Bhongir</td>\n",
       "      <td>01-08-2019</td>\n",
       "      <td>August</td>\n",
       "      <td>2019</td>\n",
       "      <td>0</td>\n",
       "    </tr>\n",
       "    <tr>\n",
       "      <th>1508</th>\n",
       "      <td>Yadadri Bhongir</td>\n",
       "      <td>01-09-2019</td>\n",
       "      <td>September</td>\n",
       "      <td>2019</td>\n",
       "      <td>0</td>\n",
       "    </tr>\n",
       "    <tr>\n",
       "      <th>1509</th>\n",
       "      <td>Yadadri Bhongir</td>\n",
       "      <td>01-10-2019</td>\n",
       "      <td>October</td>\n",
       "      <td>2019</td>\n",
       "      <td>0</td>\n",
       "    </tr>\n",
       "    <tr>\n",
       "      <th>1510</th>\n",
       "      <td>Yadadri Bhongir</td>\n",
       "      <td>01-11-2019</td>\n",
       "      <td>November</td>\n",
       "      <td>2019</td>\n",
       "      <td>0</td>\n",
       "    </tr>\n",
       "    <tr>\n",
       "      <th>1511</th>\n",
       "      <td>Yadadri Bhongir</td>\n",
       "      <td>01-12-2019</td>\n",
       "      <td>December</td>\n",
       "      <td>2019</td>\n",
       "      <td>0</td>\n",
       "    </tr>\n",
       "  </tbody>\n",
       "</table>\n",
       "<p>1512 rows × 5 columns</p>\n",
       "</div>"
      ],
      "text/plain": [
       "             district        date      month  year visitors\n",
       "0            Adilabad  01-01-2016    January  2016        2\n",
       "1            Adilabad  01-02-2016   February  2016        0\n",
       "2            Adilabad  01-03-2016      March  2016        2\n",
       "3            Adilabad  01-04-2016      April  2016        0\n",
       "4            Adilabad  01-05-2016        May  2016        0\n",
       "...               ...         ...        ...   ...      ...\n",
       "1507  Yadadri Bhongir  01-08-2019     August  2019        0\n",
       "1508  Yadadri Bhongir  01-09-2019  September  2019        0\n",
       "1509  Yadadri Bhongir  01-10-2019    October  2019        0\n",
       "1510  Yadadri Bhongir  01-11-2019   November  2019        0\n",
       "1511  Yadadri Bhongir  01-12-2019   December  2019        0\n",
       "\n",
       "[1512 rows x 5 columns]"
      ]
     },
     "execution_count": 4,
     "metadata": {},
     "output_type": "execute_result"
    }
   ],
   "source": [
    "#read csv for foreign_visitors\n",
    "fv=pd.read_csv('H:\\prafull\\LEARNING\\SQL\\CHALLANGES\\C5 Input for participants\\\\foreign_visitors.csv')\n",
    "fv"
   ]
  },
  {
   "cell_type": "markdown",
   "id": "1708d7a4",
   "metadata": {},
   "source": [
    "# Data Cleaning"
   ]
  },
  {
   "cell_type": "markdown",
   "id": "c096dfd8",
   "metadata": {},
   "source": [
    "# 1.Data Cleaning for domestic_visitors"
   ]
  },
  {
   "cell_type": "markdown",
   "id": "9976e7db",
   "metadata": {},
   "source": [
    "# check na value in domestic_visitors"
   ]
  },
  {
   "cell_type": "code",
   "execution_count": 5,
   "id": "4f04535d",
   "metadata": {},
   "outputs": [
    {
     "data": {
      "text/plain": [
       "district    False\n",
       "date        False\n",
       "month       False\n",
       "year        False\n",
       "visitors     True\n",
       "dtype: bool"
      ]
     },
     "execution_count": 5,
     "metadata": {},
     "output_type": "execute_result"
    }
   ],
   "source": [
    "dv.isna().any()"
   ]
  },
  {
   "cell_type": "code",
   "execution_count": 6,
   "id": "76b7bb61",
   "metadata": {},
   "outputs": [
    {
     "data": {
      "text/html": [
       "<div>\n",
       "<style scoped>\n",
       "    .dataframe tbody tr th:only-of-type {\n",
       "        vertical-align: middle;\n",
       "    }\n",
       "\n",
       "    .dataframe tbody tr th {\n",
       "        vertical-align: top;\n",
       "    }\n",
       "\n",
       "    .dataframe thead th {\n",
       "        text-align: right;\n",
       "    }\n",
       "</style>\n",
       "<table border=\"1\" class=\"dataframe\">\n",
       "  <thead>\n",
       "    <tr style=\"text-align: right;\">\n",
       "      <th></th>\n",
       "      <th>district</th>\n",
       "      <th>date</th>\n",
       "      <th>month</th>\n",
       "      <th>year</th>\n",
       "      <th>visitors</th>\n",
       "    </tr>\n",
       "  </thead>\n",
       "  <tbody>\n",
       "    <tr>\n",
       "      <th>1044</th>\n",
       "      <td>Suryapet</td>\n",
       "      <td>01-01-2018</td>\n",
       "      <td>January</td>\n",
       "      <td>2018</td>\n",
       "      <td>NaN</td>\n",
       "    </tr>\n",
       "    <tr>\n",
       "      <th>1045</th>\n",
       "      <td>Suryapet</td>\n",
       "      <td>01-02-2018</td>\n",
       "      <td>February</td>\n",
       "      <td>2018</td>\n",
       "      <td>NaN</td>\n",
       "    </tr>\n",
       "    <tr>\n",
       "      <th>1046</th>\n",
       "      <td>Suryapet</td>\n",
       "      <td>01-03-2018</td>\n",
       "      <td>March</td>\n",
       "      <td>2018</td>\n",
       "      <td>NaN</td>\n",
       "    </tr>\n",
       "    <tr>\n",
       "      <th>1047</th>\n",
       "      <td>Suryapet</td>\n",
       "      <td>01-04-2018</td>\n",
       "      <td>April</td>\n",
       "      <td>2018</td>\n",
       "      <td>NaN</td>\n",
       "    </tr>\n",
       "    <tr>\n",
       "      <th>1048</th>\n",
       "      <td>Suryapet</td>\n",
       "      <td>01-05-2018</td>\n",
       "      <td>May</td>\n",
       "      <td>2018</td>\n",
       "      <td>NaN</td>\n",
       "    </tr>\n",
       "    <tr>\n",
       "      <th>1049</th>\n",
       "      <td>Suryapet</td>\n",
       "      <td>01-06-2018</td>\n",
       "      <td>June</td>\n",
       "      <td>2018</td>\n",
       "      <td>NaN</td>\n",
       "    </tr>\n",
       "    <tr>\n",
       "      <th>1050</th>\n",
       "      <td>Suryapet</td>\n",
       "      <td>01-07-2018</td>\n",
       "      <td>July</td>\n",
       "      <td>2018</td>\n",
       "      <td>NaN</td>\n",
       "    </tr>\n",
       "    <tr>\n",
       "      <th>1051</th>\n",
       "      <td>Suryapet</td>\n",
       "      <td>01-08-2018</td>\n",
       "      <td>August</td>\n",
       "      <td>2018</td>\n",
       "      <td>NaN</td>\n",
       "    </tr>\n",
       "    <tr>\n",
       "      <th>1052</th>\n",
       "      <td>Suryapet</td>\n",
       "      <td>01-09-2018</td>\n",
       "      <td>September</td>\n",
       "      <td>2018</td>\n",
       "      <td>NaN</td>\n",
       "    </tr>\n",
       "    <tr>\n",
       "      <th>1053</th>\n",
       "      <td>Suryapet</td>\n",
       "      <td>01-10-2018</td>\n",
       "      <td>October</td>\n",
       "      <td>2018</td>\n",
       "      <td>NaN</td>\n",
       "    </tr>\n",
       "    <tr>\n",
       "      <th>1054</th>\n",
       "      <td>Suryapet</td>\n",
       "      <td>01-11-2018</td>\n",
       "      <td>November</td>\n",
       "      <td>2018</td>\n",
       "      <td>NaN</td>\n",
       "    </tr>\n",
       "    <tr>\n",
       "      <th>1055</th>\n",
       "      <td>Suryapet</td>\n",
       "      <td>01-12-2018</td>\n",
       "      <td>December</td>\n",
       "      <td>2018</td>\n",
       "      <td>NaN</td>\n",
       "    </tr>\n",
       "    <tr>\n",
       "      <th>1344</th>\n",
       "      <td>Narayanapet</td>\n",
       "      <td>01-01-2019</td>\n",
       "      <td>January</td>\n",
       "      <td>2019</td>\n",
       "      <td>NaN</td>\n",
       "    </tr>\n",
       "    <tr>\n",
       "      <th>1345</th>\n",
       "      <td>Narayanapet</td>\n",
       "      <td>01-02-2019</td>\n",
       "      <td>February</td>\n",
       "      <td>2019</td>\n",
       "      <td>NaN</td>\n",
       "    </tr>\n",
       "    <tr>\n",
       "      <th>1346</th>\n",
       "      <td>Narayanapet</td>\n",
       "      <td>01-03-2019</td>\n",
       "      <td>March</td>\n",
       "      <td>2019</td>\n",
       "      <td>NaN</td>\n",
       "    </tr>\n",
       "    <tr>\n",
       "      <th>1347</th>\n",
       "      <td>Narayanapet</td>\n",
       "      <td>01-04-2019</td>\n",
       "      <td>April</td>\n",
       "      <td>2019</td>\n",
       "      <td>NaN</td>\n",
       "    </tr>\n",
       "    <tr>\n",
       "      <th>1348</th>\n",
       "      <td>Narayanapet</td>\n",
       "      <td>01-05-2019</td>\n",
       "      <td>May</td>\n",
       "      <td>2019</td>\n",
       "      <td>NaN</td>\n",
       "    </tr>\n",
       "    <tr>\n",
       "      <th>1349</th>\n",
       "      <td>Narayanapet</td>\n",
       "      <td>01-06-2019</td>\n",
       "      <td>June</td>\n",
       "      <td>2019</td>\n",
       "      <td>NaN</td>\n",
       "    </tr>\n",
       "    <tr>\n",
       "      <th>1440</th>\n",
       "      <td>Suryapet</td>\n",
       "      <td>01-01-2019</td>\n",
       "      <td>January</td>\n",
       "      <td>2019</td>\n",
       "      <td>NaN</td>\n",
       "    </tr>\n",
       "    <tr>\n",
       "      <th>1441</th>\n",
       "      <td>Suryapet</td>\n",
       "      <td>01-02-2019</td>\n",
       "      <td>February</td>\n",
       "      <td>2019</td>\n",
       "      <td>NaN</td>\n",
       "    </tr>\n",
       "    <tr>\n",
       "      <th>1442</th>\n",
       "      <td>Suryapet</td>\n",
       "      <td>01-03-2019</td>\n",
       "      <td>March</td>\n",
       "      <td>2019</td>\n",
       "      <td>NaN</td>\n",
       "    </tr>\n",
       "    <tr>\n",
       "      <th>1443</th>\n",
       "      <td>Suryapet</td>\n",
       "      <td>01-04-2019</td>\n",
       "      <td>April</td>\n",
       "      <td>2019</td>\n",
       "      <td>NaN</td>\n",
       "    </tr>\n",
       "    <tr>\n",
       "      <th>1444</th>\n",
       "      <td>Suryapet</td>\n",
       "      <td>01-05-2019</td>\n",
       "      <td>May</td>\n",
       "      <td>2019</td>\n",
       "      <td>NaN</td>\n",
       "    </tr>\n",
       "    <tr>\n",
       "      <th>1445</th>\n",
       "      <td>Suryapet</td>\n",
       "      <td>01-06-2019</td>\n",
       "      <td>June</td>\n",
       "      <td>2019</td>\n",
       "      <td>NaN</td>\n",
       "    </tr>\n",
       "    <tr>\n",
       "      <th>1446</th>\n",
       "      <td>Suryapet</td>\n",
       "      <td>01-07-2019</td>\n",
       "      <td>July</td>\n",
       "      <td>2019</td>\n",
       "      <td>NaN</td>\n",
       "    </tr>\n",
       "    <tr>\n",
       "      <th>1447</th>\n",
       "      <td>Suryapet</td>\n",
       "      <td>01-08-2019</td>\n",
       "      <td>August</td>\n",
       "      <td>2019</td>\n",
       "      <td>NaN</td>\n",
       "    </tr>\n",
       "    <tr>\n",
       "      <th>1448</th>\n",
       "      <td>Suryapet</td>\n",
       "      <td>01-09-2019</td>\n",
       "      <td>September</td>\n",
       "      <td>2019</td>\n",
       "      <td>NaN</td>\n",
       "    </tr>\n",
       "    <tr>\n",
       "      <th>1449</th>\n",
       "      <td>Suryapet</td>\n",
       "      <td>01-10-2019</td>\n",
       "      <td>October</td>\n",
       "      <td>2019</td>\n",
       "      <td>NaN</td>\n",
       "    </tr>\n",
       "    <tr>\n",
       "      <th>1450</th>\n",
       "      <td>Suryapet</td>\n",
       "      <td>01-11-2019</td>\n",
       "      <td>November</td>\n",
       "      <td>2019</td>\n",
       "      <td>NaN</td>\n",
       "    </tr>\n",
       "    <tr>\n",
       "      <th>1451</th>\n",
       "      <td>Suryapet</td>\n",
       "      <td>01-12-2019</td>\n",
       "      <td>December</td>\n",
       "      <td>2019</td>\n",
       "      <td>NaN</td>\n",
       "    </tr>\n",
       "  </tbody>\n",
       "</table>\n",
       "</div>"
      ],
      "text/plain": [
       "         district        date      month  year visitors\n",
       "1044     Suryapet  01-01-2018    January  2018      NaN\n",
       "1045     Suryapet  01-02-2018   February  2018      NaN\n",
       "1046     Suryapet  01-03-2018      March  2018      NaN\n",
       "1047     Suryapet  01-04-2018      April  2018      NaN\n",
       "1048     Suryapet  01-05-2018        May  2018      NaN\n",
       "1049     Suryapet  01-06-2018       June  2018      NaN\n",
       "1050     Suryapet  01-07-2018       July  2018      NaN\n",
       "1051     Suryapet  01-08-2018     August  2018      NaN\n",
       "1052     Suryapet  01-09-2018  September  2018      NaN\n",
       "1053     Suryapet  01-10-2018    October  2018      NaN\n",
       "1054     Suryapet  01-11-2018   November  2018      NaN\n",
       "1055     Suryapet  01-12-2018   December  2018      NaN\n",
       "1344  Narayanapet  01-01-2019    January  2019      NaN\n",
       "1345  Narayanapet  01-02-2019   February  2019      NaN\n",
       "1346  Narayanapet  01-03-2019      March  2019      NaN\n",
       "1347  Narayanapet  01-04-2019      April  2019      NaN\n",
       "1348  Narayanapet  01-05-2019        May  2019      NaN\n",
       "1349  Narayanapet  01-06-2019       June  2019      NaN\n",
       "1440     Suryapet  01-01-2019    January  2019      NaN\n",
       "1441     Suryapet  01-02-2019   February  2019      NaN\n",
       "1442     Suryapet  01-03-2019      March  2019      NaN\n",
       "1443     Suryapet  01-04-2019      April  2019      NaN\n",
       "1444     Suryapet  01-05-2019        May  2019      NaN\n",
       "1445     Suryapet  01-06-2019       June  2019      NaN\n",
       "1446     Suryapet  01-07-2019       July  2019      NaN\n",
       "1447     Suryapet  01-08-2019     August  2019      NaN\n",
       "1448     Suryapet  01-09-2019  September  2019      NaN\n",
       "1449     Suryapet  01-10-2019    October  2019      NaN\n",
       "1450     Suryapet  01-11-2019   November  2019      NaN\n",
       "1451     Suryapet  01-12-2019   December  2019      NaN"
      ]
     },
     "execution_count": 6,
     "metadata": {},
     "output_type": "execute_result"
    }
   ],
   "source": [
    "#Nan value data\n",
    "dv[dv['visitors'].isnull()]"
   ]
  },
  {
   "cell_type": "code",
   "execution_count": 7,
   "id": "731718c5",
   "metadata": {},
   "outputs": [
    {
     "data": {
      "text/plain": [
       "(30, 5)"
      ]
     },
     "execution_count": 7,
     "metadata": {},
     "output_type": "execute_result"
    }
   ],
   "source": [
    "#shape\n",
    "dv[dv['visitors'].isnull()].shape"
   ]
  },
  {
   "cell_type": "markdown",
   "id": "5a438513",
   "metadata": {},
   "source": [
    "# checking datatypes for columns"
   ]
  },
  {
   "cell_type": "code",
   "execution_count": 8,
   "id": "0d482439",
   "metadata": {},
   "outputs": [
    {
     "data": {
      "text/plain": [
       "district    object\n",
       "date        object\n",
       "month       object\n",
       "year         int64\n",
       "visitors    object\n",
       "dtype: object"
      ]
     },
     "execution_count": 8,
     "metadata": {},
     "output_type": "execute_result"
    }
   ],
   "source": [
    "dv.dtypes"
   ]
  },
  {
   "cell_type": "markdown",
   "id": "eab9367f",
   "metadata": {},
   "source": [
    "# change data type for visitor column"
   ]
  },
  {
   "cell_type": "markdown",
   "id": "244c4b39",
   "metadata": {},
   "source": [
    "dv['visitors'] = dv['visitors'].astype(int) \n",
    "got error # ValueError: invalid literal for int() with base 10: ' '"
   ]
  },
  {
   "cell_type": "markdown",
   "id": "cfc7a82b",
   "metadata": {},
   "source": [
    "# check rows with ' ' in domestic_visitors data"
   ]
  },
  {
   "cell_type": "code",
   "execution_count": 9,
   "id": "5075164f",
   "metadata": {},
   "outputs": [
    {
     "data": {
      "text/html": [
       "<div>\n",
       "<style scoped>\n",
       "    .dataframe tbody tr th:only-of-type {\n",
       "        vertical-align: middle;\n",
       "    }\n",
       "\n",
       "    .dataframe tbody tr th {\n",
       "        vertical-align: top;\n",
       "    }\n",
       "\n",
       "    .dataframe thead th {\n",
       "        text-align: right;\n",
       "    }\n",
       "</style>\n",
       "<table border=\"1\" class=\"dataframe\">\n",
       "  <thead>\n",
       "    <tr style=\"text-align: right;\">\n",
       "      <th></th>\n",
       "      <th>district</th>\n",
       "      <th>date</th>\n",
       "      <th>month</th>\n",
       "      <th>year</th>\n",
       "      <th>visitors</th>\n",
       "    </tr>\n",
       "  </thead>\n",
       "  <tbody>\n",
       "    <tr>\n",
       "      <th>12</th>\n",
       "      <td>Bhadradri Kothagudem</td>\n",
       "      <td>01-01-2016</td>\n",
       "      <td>January</td>\n",
       "      <td>2016</td>\n",
       "      <td></td>\n",
       "    </tr>\n",
       "    <tr>\n",
       "      <th>13</th>\n",
       "      <td>Bhadradri Kothagudem</td>\n",
       "      <td>01-02-2016</td>\n",
       "      <td>February</td>\n",
       "      <td>2016</td>\n",
       "      <td></td>\n",
       "    </tr>\n",
       "    <tr>\n",
       "      <th>14</th>\n",
       "      <td>Bhadradri Kothagudem</td>\n",
       "      <td>01-03-2016</td>\n",
       "      <td>March</td>\n",
       "      <td>2016</td>\n",
       "      <td></td>\n",
       "    </tr>\n",
       "    <tr>\n",
       "      <th>15</th>\n",
       "      <td>Bhadradri Kothagudem</td>\n",
       "      <td>01-04-2016</td>\n",
       "      <td>April</td>\n",
       "      <td>2016</td>\n",
       "      <td></td>\n",
       "    </tr>\n",
       "    <tr>\n",
       "      <th>16</th>\n",
       "      <td>Bhadradri Kothagudem</td>\n",
       "      <td>01-05-2016</td>\n",
       "      <td>May</td>\n",
       "      <td>2016</td>\n",
       "      <td></td>\n",
       "    </tr>\n",
       "    <tr>\n",
       "      <th>...</th>\n",
       "      <td>...</td>\n",
       "      <td>...</td>\n",
       "      <td>...</td>\n",
       "      <td>...</td>\n",
       "      <td>...</td>\n",
       "    </tr>\n",
       "    <tr>\n",
       "      <th>1459</th>\n",
       "      <td>Vikarabad</td>\n",
       "      <td>01-08-2019</td>\n",
       "      <td>August</td>\n",
       "      <td>2019</td>\n",
       "      <td></td>\n",
       "    </tr>\n",
       "    <tr>\n",
       "      <th>1460</th>\n",
       "      <td>Vikarabad</td>\n",
       "      <td>01-09-2019</td>\n",
       "      <td>September</td>\n",
       "      <td>2019</td>\n",
       "      <td></td>\n",
       "    </tr>\n",
       "    <tr>\n",
       "      <th>1461</th>\n",
       "      <td>Vikarabad</td>\n",
       "      <td>01-10-2019</td>\n",
       "      <td>October</td>\n",
       "      <td>2019</td>\n",
       "      <td></td>\n",
       "    </tr>\n",
       "    <tr>\n",
       "      <th>1462</th>\n",
       "      <td>Vikarabad</td>\n",
       "      <td>01-11-2019</td>\n",
       "      <td>November</td>\n",
       "      <td>2019</td>\n",
       "      <td></td>\n",
       "    </tr>\n",
       "    <tr>\n",
       "      <th>1463</th>\n",
       "      <td>Vikarabad</td>\n",
       "      <td>01-12-2019</td>\n",
       "      <td>December</td>\n",
       "      <td>2019</td>\n",
       "      <td></td>\n",
       "    </tr>\n",
       "  </tbody>\n",
       "</table>\n",
       "<p>315 rows × 5 columns</p>\n",
       "</div>"
      ],
      "text/plain": [
       "                   district        date      month  year visitors\n",
       "12    Bhadradri Kothagudem   01-01-2016    January  2016         \n",
       "13    Bhadradri Kothagudem   01-02-2016   February  2016         \n",
       "14    Bhadradri Kothagudem   01-03-2016      March  2016         \n",
       "15    Bhadradri Kothagudem   01-04-2016      April  2016         \n",
       "16    Bhadradri Kothagudem   01-05-2016        May  2016         \n",
       "...                     ...         ...        ...   ...      ...\n",
       "1459              Vikarabad  01-08-2019     August  2019         \n",
       "1460              Vikarabad  01-09-2019  September  2019         \n",
       "1461              Vikarabad  01-10-2019    October  2019         \n",
       "1462              Vikarabad  01-11-2019   November  2019         \n",
       "1463              Vikarabad  01-12-2019   December  2019         \n",
       "\n",
       "[315 rows x 5 columns]"
      ]
     },
     "execution_count": 9,
     "metadata": {},
     "output_type": "execute_result"
    }
   ],
   "source": [
    "dv[dv['visitors']==' ']"
   ]
  },
  {
   "cell_type": "markdown",
   "id": "c9d8c5cb",
   "metadata": {},
   "source": [
    "# replacing ' ' with NaN using numpy np.nan"
   ]
  },
  {
   "cell_type": "code",
   "execution_count": 10,
   "id": "a1a5f647",
   "metadata": {},
   "outputs": [],
   "source": [
    "dv.loc[dv['visitors'] == ' ', 'visitors'] = np.nan"
   ]
  },
  {
   "cell_type": "code",
   "execution_count": 11,
   "id": "3db39a46",
   "metadata": {},
   "outputs": [
    {
     "data": {
      "text/plain": [
       "(345, 5)"
      ]
     },
     "execution_count": 11,
     "metadata": {},
     "output_type": "execute_result"
    }
   ],
   "source": [
    "#shape\n",
    "dv[dv['visitors'].isnull()].shape"
   ]
  },
  {
   "cell_type": "markdown",
   "id": "5789fe83",
   "metadata": {},
   "source": [
    "# Fill Nan with 0 using fillna"
   ]
  },
  {
   "cell_type": "code",
   "execution_count": 12,
   "id": "00fbc563",
   "metadata": {},
   "outputs": [],
   "source": [
    "dv = dv.fillna(value=0, axis=0)"
   ]
  },
  {
   "cell_type": "code",
   "execution_count": 13,
   "id": "81b18e19",
   "metadata": {},
   "outputs": [
    {
     "data": {
      "text/plain": [
       "district      Suryapet\n",
       "date        01-01-2018\n",
       "month          January\n",
       "year              2018\n",
       "visitors             0\n",
       "Name: 1044, dtype: object"
      ]
     },
     "execution_count": 13,
     "metadata": {},
     "output_type": "execute_result"
    }
   ],
   "source": [
    "# check\n",
    "dv.iloc[1044]"
   ]
  },
  {
   "cell_type": "markdown",
   "id": "cb7c1aaf",
   "metadata": {},
   "source": [
    "# change data type for visitor column"
   ]
  },
  {
   "cell_type": "code",
   "execution_count": 14,
   "id": "7b7842f1",
   "metadata": {},
   "outputs": [],
   "source": [
    "dv['visitors'] = dv['visitors'].astype(int)\n",
    "dv['year'] = dv['year'].astype(int)"
   ]
  },
  {
   "cell_type": "markdown",
   "id": "424ca578",
   "metadata": {},
   "source": [
    "# checking datatypes for columns"
   ]
  },
  {
   "cell_type": "code",
   "execution_count": 15,
   "id": "3625933c",
   "metadata": {},
   "outputs": [
    {
     "data": {
      "text/plain": [
       "district    object\n",
       "date        object\n",
       "month       object\n",
       "year         int32\n",
       "visitors     int32\n",
       "dtype: object"
      ]
     },
     "execution_count": 15,
     "metadata": {},
     "output_type": "execute_result"
    }
   ],
   "source": [
    "dv.dtypes"
   ]
  },
  {
   "cell_type": "markdown",
   "id": "e8992540",
   "metadata": {},
   "source": [
    "# 2.Data Cleaning for foreign_visitors"
   ]
  },
  {
   "cell_type": "markdown",
   "id": "3ccbf476",
   "metadata": {},
   "source": [
    "# check na value in foreign_visitors"
   ]
  },
  {
   "cell_type": "code",
   "execution_count": 16,
   "id": "62b0d1b5",
   "metadata": {},
   "outputs": [
    {
     "data": {
      "text/plain": [
       "district    False\n",
       "date        False\n",
       "month       False\n",
       "year        False\n",
       "visitors    False\n",
       "dtype: bool"
      ]
     },
     "execution_count": 16,
     "metadata": {},
     "output_type": "execute_result"
    }
   ],
   "source": [
    "fv.isna().any()"
   ]
  },
  {
   "cell_type": "markdown",
   "id": "698338b1",
   "metadata": {},
   "source": [
    "# checking datatypes for columns"
   ]
  },
  {
   "cell_type": "code",
   "execution_count": 17,
   "id": "599e792b",
   "metadata": {},
   "outputs": [
    {
     "data": {
      "text/plain": [
       "district    object\n",
       "date        object\n",
       "month       object\n",
       "year         int64\n",
       "visitors    object\n",
       "dtype: object"
      ]
     },
     "execution_count": 17,
     "metadata": {},
     "output_type": "execute_result"
    }
   ],
   "source": [
    "fv.dtypes"
   ]
  },
  {
   "cell_type": "markdown",
   "id": "d268528e",
   "metadata": {},
   "source": [
    "# change data type for visitor column"
   ]
  },
  {
   "cell_type": "markdown",
   "id": "22f3af7b",
   "metadata": {},
   "source": [
    "fv['visitors'] = fv['visitors'].astype(int) \n",
    "got error # ValueError: invalid literal for int() with base 10: ' '"
   ]
  },
  {
   "cell_type": "markdown",
   "id": "57cd94bc",
   "metadata": {},
   "source": [
    "# check rows with ' ' in domestic_visitors data"
   ]
  },
  {
   "cell_type": "code",
   "execution_count": 18,
   "id": "7fbd1c4b",
   "metadata": {},
   "outputs": [
    {
     "data": {
      "text/html": [
       "<div>\n",
       "<style scoped>\n",
       "    .dataframe tbody tr th:only-of-type {\n",
       "        vertical-align: middle;\n",
       "    }\n",
       "\n",
       "    .dataframe tbody tr th {\n",
       "        vertical-align: top;\n",
       "    }\n",
       "\n",
       "    .dataframe thead th {\n",
       "        text-align: right;\n",
       "    }\n",
       "</style>\n",
       "<table border=\"1\" class=\"dataframe\">\n",
       "  <thead>\n",
       "    <tr style=\"text-align: right;\">\n",
       "      <th></th>\n",
       "      <th>district</th>\n",
       "      <th>date</th>\n",
       "      <th>month</th>\n",
       "      <th>year</th>\n",
       "      <th>visitors</th>\n",
       "    </tr>\n",
       "  </thead>\n",
       "  <tbody>\n",
       "    <tr>\n",
       "      <th>12</th>\n",
       "      <td>Bhadradri Kothagudem</td>\n",
       "      <td>01-01-2016</td>\n",
       "      <td>January</td>\n",
       "      <td>2016</td>\n",
       "      <td></td>\n",
       "    </tr>\n",
       "    <tr>\n",
       "      <th>13</th>\n",
       "      <td>Bhadradri Kothagudem</td>\n",
       "      <td>01-02-2016</td>\n",
       "      <td>February</td>\n",
       "      <td>2016</td>\n",
       "      <td></td>\n",
       "    </tr>\n",
       "    <tr>\n",
       "      <th>14</th>\n",
       "      <td>Bhadradri Kothagudem</td>\n",
       "      <td>01-03-2016</td>\n",
       "      <td>March</td>\n",
       "      <td>2016</td>\n",
       "      <td></td>\n",
       "    </tr>\n",
       "    <tr>\n",
       "      <th>15</th>\n",
       "      <td>Bhadradri Kothagudem</td>\n",
       "      <td>01-04-2016</td>\n",
       "      <td>April</td>\n",
       "      <td>2016</td>\n",
       "      <td></td>\n",
       "    </tr>\n",
       "    <tr>\n",
       "      <th>16</th>\n",
       "      <td>Bhadradri Kothagudem</td>\n",
       "      <td>01-05-2016</td>\n",
       "      <td>May</td>\n",
       "      <td>2016</td>\n",
       "      <td></td>\n",
       "    </tr>\n",
       "    <tr>\n",
       "      <th>...</th>\n",
       "      <td>...</td>\n",
       "      <td>...</td>\n",
       "      <td>...</td>\n",
       "      <td>...</td>\n",
       "      <td>...</td>\n",
       "    </tr>\n",
       "    <tr>\n",
       "      <th>1459</th>\n",
       "      <td>Vikarabad</td>\n",
       "      <td>01-08-2019</td>\n",
       "      <td>August</td>\n",
       "      <td>2019</td>\n",
       "      <td></td>\n",
       "    </tr>\n",
       "    <tr>\n",
       "      <th>1460</th>\n",
       "      <td>Vikarabad</td>\n",
       "      <td>01-09-2019</td>\n",
       "      <td>September</td>\n",
       "      <td>2019</td>\n",
       "      <td></td>\n",
       "    </tr>\n",
       "    <tr>\n",
       "      <th>1461</th>\n",
       "      <td>Vikarabad</td>\n",
       "      <td>01-10-2019</td>\n",
       "      <td>October</td>\n",
       "      <td>2019</td>\n",
       "      <td></td>\n",
       "    </tr>\n",
       "    <tr>\n",
       "      <th>1462</th>\n",
       "      <td>Vikarabad</td>\n",
       "      <td>01-11-2019</td>\n",
       "      <td>November</td>\n",
       "      <td>2019</td>\n",
       "      <td></td>\n",
       "    </tr>\n",
       "    <tr>\n",
       "      <th>1463</th>\n",
       "      <td>Vikarabad</td>\n",
       "      <td>01-12-2019</td>\n",
       "      <td>December</td>\n",
       "      <td>2019</td>\n",
       "      <td></td>\n",
       "    </tr>\n",
       "  </tbody>\n",
       "</table>\n",
       "<p>320 rows × 5 columns</p>\n",
       "</div>"
      ],
      "text/plain": [
       "                   district        date      month  year visitors\n",
       "12    Bhadradri Kothagudem   01-01-2016    January  2016         \n",
       "13    Bhadradri Kothagudem   01-02-2016   February  2016         \n",
       "14    Bhadradri Kothagudem   01-03-2016      March  2016         \n",
       "15    Bhadradri Kothagudem   01-04-2016      April  2016         \n",
       "16    Bhadradri Kothagudem   01-05-2016        May  2016         \n",
       "...                     ...         ...        ...   ...      ...\n",
       "1459              Vikarabad  01-08-2019     August  2019         \n",
       "1460              Vikarabad  01-09-2019  September  2019         \n",
       "1461              Vikarabad  01-10-2019    October  2019         \n",
       "1462              Vikarabad  01-11-2019   November  2019         \n",
       "1463              Vikarabad  01-12-2019   December  2019         \n",
       "\n",
       "[320 rows x 5 columns]"
      ]
     },
     "execution_count": 18,
     "metadata": {},
     "output_type": "execute_result"
    }
   ],
   "source": [
    "fv[fv['visitors']==' ']"
   ]
  },
  {
   "cell_type": "markdown",
   "id": "50136b30",
   "metadata": {},
   "source": [
    "# replacing ' ' with NaN using numpy np.nan"
   ]
  },
  {
   "cell_type": "code",
   "execution_count": 19,
   "id": "14660a81",
   "metadata": {},
   "outputs": [],
   "source": [
    "fv.loc[fv['visitors'] == ' ', 'visitors'] = np.nan"
   ]
  },
  {
   "cell_type": "code",
   "execution_count": 20,
   "id": "14545652",
   "metadata": {},
   "outputs": [
    {
     "data": {
      "text/plain": [
       "(320, 5)"
      ]
     },
     "execution_count": 20,
     "metadata": {},
     "output_type": "execute_result"
    }
   ],
   "source": [
    "#shape\n",
    "fv[fv['visitors'].isnull()].shape"
   ]
  },
  {
   "cell_type": "markdown",
   "id": "519fa647",
   "metadata": {},
   "source": [
    "# Fill Nan with 0 using fillna"
   ]
  },
  {
   "cell_type": "code",
   "execution_count": 21,
   "id": "fe206c1c",
   "metadata": {},
   "outputs": [],
   "source": [
    "fv = fv.fillna(value=0, axis=0)"
   ]
  },
  {
   "cell_type": "code",
   "execution_count": 22,
   "id": "79df84fc",
   "metadata": {},
   "outputs": [
    {
     "data": {
      "text/plain": [
       "district    Bhadradri Kothagudem \n",
       "date                   01-01-2016\n",
       "month                     January\n",
       "year                         2016\n",
       "visitors                        0\n",
       "Name: 12, dtype: object"
      ]
     },
     "execution_count": 22,
     "metadata": {},
     "output_type": "execute_result"
    }
   ],
   "source": [
    "#check\n",
    "fv.iloc[12]"
   ]
  },
  {
   "cell_type": "markdown",
   "id": "aee6ba86",
   "metadata": {},
   "source": [
    "# change data type for visitor column"
   ]
  },
  {
   "cell_type": "code",
   "execution_count": 23,
   "id": "ebc10ae3",
   "metadata": {},
   "outputs": [],
   "source": [
    "fv['visitors'] = fv['visitors'].astype(int)\n",
    "fv['year'] = fv['year'].astype(int)"
   ]
  },
  {
   "cell_type": "markdown",
   "id": "7caeb011",
   "metadata": {},
   "source": [
    "# checking datatypes for columns"
   ]
  },
  {
   "cell_type": "code",
   "execution_count": 24,
   "id": "779780a2",
   "metadata": {},
   "outputs": [
    {
     "data": {
      "text/plain": [
       "district    object\n",
       "date        object\n",
       "month       object\n",
       "year         int32\n",
       "visitors     int32\n",
       "dtype: object"
      ]
     },
     "execution_count": 24,
     "metadata": {},
     "output_type": "execute_result"
    }
   ],
   "source": [
    "fv.dtypes"
   ]
  },
  {
   "cell_type": "markdown",
   "id": "e97560d7",
   "metadata": {},
   "source": [
    "# Q1.list down the top 10 districs that have the highest number of domestic visitors overall 2016-2019?"
   ]
  },
  {
   "cell_type": "code",
   "execution_count": 25,
   "id": "0134c25c",
   "metadata": {},
   "outputs": [
    {
     "name": "stdout",
     "output_type": "stream",
     "text": [
      "district\n",
      "Hyderabad                   83900960\n",
      "Rajanna Sircilla            41763276\n",
      "Warangal (Urban)            30726603\n",
      "Yadadri Bhongir             26893080\n",
      "Bhadradri Kothagudem        21600962\n",
      "Medak                       20542639\n",
      "Jayashankar Bhoopalpally    19632865\n",
      "Mahbubnagar                 17180118\n",
      "Nirmal                      13315796\n",
      "Jagtial                     11303514\n",
      "Name: visitors, dtype: int32\n"
     ]
    }
   ],
   "source": [
    "# Group the data by district and sum the number of visitors for each district\n",
    "grouped_data = dv.groupby(['district'])['visitors'].sum()\n",
    "\n",
    "# Convert the resulting series back to a DataFrame and rename the column\n",
    "#grouped_data = pd.DataFrame(grouped_data).rename(columns={'visitors': 'Total_visitors'})\n",
    "\n",
    "# Sort the districts based on the total number of visitors\n",
    "sorted_data = grouped_data.sort_values(ascending=False)\n",
    "\n",
    "# Display the top 10 districts\n",
    "top_10_districts = sorted_data.head(10)\n",
    "print(top_10_districts)"
   ]
  },
  {
   "cell_type": "code",
   "execution_count": 26,
   "id": "eb0cd8c2",
   "metadata": {},
   "outputs": [
    {
     "data": {
      "text/html": [
       "<div>\n",
       "<style scoped>\n",
       "    .dataframe tbody tr th:only-of-type {\n",
       "        vertical-align: middle;\n",
       "    }\n",
       "\n",
       "    .dataframe tbody tr th {\n",
       "        vertical-align: top;\n",
       "    }\n",
       "\n",
       "    .dataframe thead th {\n",
       "        text-align: right;\n",
       "    }\n",
       "</style>\n",
       "<table border=\"1\" class=\"dataframe\">\n",
       "  <thead>\n",
       "    <tr style=\"text-align: right;\">\n",
       "      <th></th>\n",
       "      <th>district</th>\n",
       "      <th>date</th>\n",
       "      <th>month</th>\n",
       "      <th>year</th>\n",
       "      <th>visitors</th>\n",
       "    </tr>\n",
       "  </thead>\n",
       "  <tbody>\n",
       "    <tr>\n",
       "      <th>0</th>\n",
       "      <td>Adilabad</td>\n",
       "      <td>01-01-2016</td>\n",
       "      <td>January</td>\n",
       "      <td>2016</td>\n",
       "      <td>792136</td>\n",
       "    </tr>\n",
       "    <tr>\n",
       "      <th>1</th>\n",
       "      <td>Adilabad</td>\n",
       "      <td>01-02-2016</td>\n",
       "      <td>February</td>\n",
       "      <td>2016</td>\n",
       "      <td>937820</td>\n",
       "    </tr>\n",
       "    <tr>\n",
       "      <th>2</th>\n",
       "      <td>Adilabad</td>\n",
       "      <td>01-03-2016</td>\n",
       "      <td>March</td>\n",
       "      <td>2016</td>\n",
       "      <td>582946</td>\n",
       "    </tr>\n",
       "    <tr>\n",
       "      <th>3</th>\n",
       "      <td>Adilabad</td>\n",
       "      <td>01-04-2016</td>\n",
       "      <td>April</td>\n",
       "      <td>2016</td>\n",
       "      <td>341948</td>\n",
       "    </tr>\n",
       "    <tr>\n",
       "      <th>4</th>\n",
       "      <td>Adilabad</td>\n",
       "      <td>01-05-2016</td>\n",
       "      <td>May</td>\n",
       "      <td>2016</td>\n",
       "      <td>252887</td>\n",
       "    </tr>\n",
       "    <tr>\n",
       "      <th>...</th>\n",
       "      <td>...</td>\n",
       "      <td>...</td>\n",
       "      <td>...</td>\n",
       "      <td>...</td>\n",
       "      <td>...</td>\n",
       "    </tr>\n",
       "    <tr>\n",
       "      <th>3019</th>\n",
       "      <td>Yadadri Bhongir</td>\n",
       "      <td>01-08-2019</td>\n",
       "      <td>August</td>\n",
       "      <td>2019</td>\n",
       "      <td>0</td>\n",
       "    </tr>\n",
       "    <tr>\n",
       "      <th>3020</th>\n",
       "      <td>Yadadri Bhongir</td>\n",
       "      <td>01-09-2019</td>\n",
       "      <td>September</td>\n",
       "      <td>2019</td>\n",
       "      <td>0</td>\n",
       "    </tr>\n",
       "    <tr>\n",
       "      <th>3021</th>\n",
       "      <td>Yadadri Bhongir</td>\n",
       "      <td>01-10-2019</td>\n",
       "      <td>October</td>\n",
       "      <td>2019</td>\n",
       "      <td>0</td>\n",
       "    </tr>\n",
       "    <tr>\n",
       "      <th>3022</th>\n",
       "      <td>Yadadri Bhongir</td>\n",
       "      <td>01-11-2019</td>\n",
       "      <td>November</td>\n",
       "      <td>2019</td>\n",
       "      <td>0</td>\n",
       "    </tr>\n",
       "    <tr>\n",
       "      <th>3023</th>\n",
       "      <td>Yadadri Bhongir</td>\n",
       "      <td>01-12-2019</td>\n",
       "      <td>December</td>\n",
       "      <td>2019</td>\n",
       "      <td>0</td>\n",
       "    </tr>\n",
       "  </tbody>\n",
       "</table>\n",
       "<p>3024 rows × 5 columns</p>\n",
       "</div>"
      ],
      "text/plain": [
       "             district        date      month  year  visitors\n",
       "0            Adilabad  01-01-2016    January  2016    792136\n",
       "1            Adilabad  01-02-2016   February  2016    937820\n",
       "2            Adilabad  01-03-2016      March  2016    582946\n",
       "3            Adilabad  01-04-2016      April  2016    341948\n",
       "4            Adilabad  01-05-2016        May  2016    252887\n",
       "...               ...         ...        ...   ...       ...\n",
       "3019  Yadadri Bhongir  01-08-2019     August  2019         0\n",
       "3020  Yadadri Bhongir  01-09-2019  September  2019         0\n",
       "3021  Yadadri Bhongir  01-10-2019    October  2019         0\n",
       "3022  Yadadri Bhongir  01-11-2019   November  2019         0\n",
       "3023  Yadadri Bhongir  01-12-2019   December  2019         0\n",
       "\n",
       "[3024 rows x 5 columns]"
      ]
     },
     "execution_count": 26,
     "metadata": {},
     "output_type": "execute_result"
    }
   ],
   "source": [
    "#merge domestic_visitors and foreign_visitors\n",
    "total_visitor = pd.concat([dv,fv], axis=0, ignore_index=True)\n",
    "total_visitor"
   ]
  },
  {
   "cell_type": "markdown",
   "id": "996c9480",
   "metadata": {},
   "source": [
    "# Q2.list down the top 3 districts based on cagr of visitor between 2016-2019?"
   ]
  },
  {
   "cell_type": "code",
   "execution_count": 27,
   "id": "2e1af17e",
   "metadata": {},
   "outputs": [
    {
     "name": "stdout",
     "output_type": "stream",
     "text": [
      "district\n",
      "Komaram Bheem Asifabad           inf\n",
      "Mancherial                225.803739\n",
      "Warangal (Rural)          163.145469\n",
      "dtype: float64\n"
     ]
    }
   ],
   "source": [
    "#Create a pivot table to get the number of visitors by district and year\n",
    "pivot = pd.pivot_table(total_visitor, values='visitors', index='district', columns='year')\n",
    "\n",
    "# Calculate the CAGR for each district\n",
    "cagr = ((pivot[2019]/pivot[2016])**(1/3) - 1)*100\n",
    "\n",
    "# Get the top 3 districts based on CAGR\n",
    "top_3 = cagr.nlargest(3)\n",
    "print(top_3)"
   ]
  },
  {
   "cell_type": "markdown",
   "id": "ba72ed3a",
   "metadata": {},
   "source": [
    "# Q3.list down the bottom 3 districts based on cagr of visitor between 2016-2019?"
   ]
  },
  {
   "cell_type": "code",
   "execution_count": 28,
   "id": "01eae8a6",
   "metadata": {},
   "outputs": [
    {
     "name": "stdout",
     "output_type": "stream",
     "text": [
      "district\n",
      "Karimnagar         -79.629550\n",
      "Nalgonda           -71.133488\n",
      "Warangal (Urban)   -58.845179\n",
      "dtype: float64\n"
     ]
    }
   ],
   "source": [
    "# Get the top 3 districts based on CAGR\n",
    "bottom_3 = cagr.nsmallest(3)\n",
    "print(bottom_3)"
   ]
  },
  {
   "cell_type": "markdown",
   "id": "6e1bf93c",
   "metadata": {},
   "source": [
    "# Q4.what are the peak and low season month for hyderabad based on the data from 2016 to 2019?"
   ]
  },
  {
   "cell_type": "code",
   "execution_count": 29,
   "id": "b5e8d422",
   "metadata": {},
   "outputs": [
    {
     "data": {
      "text/html": [
       "<div>\n",
       "<style scoped>\n",
       "    .dataframe tbody tr th:only-of-type {\n",
       "        vertical-align: middle;\n",
       "    }\n",
       "\n",
       "    .dataframe tbody tr th {\n",
       "        vertical-align: top;\n",
       "    }\n",
       "\n",
       "    .dataframe thead th {\n",
       "        text-align: right;\n",
       "    }\n",
       "</style>\n",
       "<table border=\"1\" class=\"dataframe\">\n",
       "  <thead>\n",
       "    <tr style=\"text-align: right;\">\n",
       "      <th></th>\n",
       "      <th>district</th>\n",
       "      <th>date</th>\n",
       "      <th>month</th>\n",
       "      <th>year</th>\n",
       "      <th>visitors</th>\n",
       "    </tr>\n",
       "  </thead>\n",
       "  <tbody>\n",
       "    <tr>\n",
       "      <th>24</th>\n",
       "      <td>Hyderabad</td>\n",
       "      <td>01-01-2016</td>\n",
       "      <td>January</td>\n",
       "      <td>2016</td>\n",
       "      <td>1122510</td>\n",
       "    </tr>\n",
       "    <tr>\n",
       "      <th>25</th>\n",
       "      <td>Hyderabad</td>\n",
       "      <td>01-02-2016</td>\n",
       "      <td>February</td>\n",
       "      <td>2016</td>\n",
       "      <td>778748</td>\n",
       "    </tr>\n",
       "    <tr>\n",
       "      <th>26</th>\n",
       "      <td>Hyderabad</td>\n",
       "      <td>01-03-2016</td>\n",
       "      <td>March</td>\n",
       "      <td>2016</td>\n",
       "      <td>1017794</td>\n",
       "    </tr>\n",
       "    <tr>\n",
       "      <th>27</th>\n",
       "      <td>Hyderabad</td>\n",
       "      <td>01-04-2016</td>\n",
       "      <td>April</td>\n",
       "      <td>2016</td>\n",
       "      <td>1127738</td>\n",
       "    </tr>\n",
       "    <tr>\n",
       "      <th>28</th>\n",
       "      <td>Hyderabad</td>\n",
       "      <td>01-05-2016</td>\n",
       "      <td>May</td>\n",
       "      <td>2016</td>\n",
       "      <td>1287181</td>\n",
       "    </tr>\n",
       "    <tr>\n",
       "      <th>...</th>\n",
       "      <td>...</td>\n",
       "      <td>...</td>\n",
       "      <td>...</td>\n",
       "      <td>...</td>\n",
       "      <td>...</td>\n",
       "    </tr>\n",
       "    <tr>\n",
       "      <th>2659</th>\n",
       "      <td>Hyderabad</td>\n",
       "      <td>01-08-2019</td>\n",
       "      <td>August</td>\n",
       "      <td>2019</td>\n",
       "      <td>22725</td>\n",
       "    </tr>\n",
       "    <tr>\n",
       "      <th>2660</th>\n",
       "      <td>Hyderabad</td>\n",
       "      <td>01-09-2019</td>\n",
       "      <td>September</td>\n",
       "      <td>2019</td>\n",
       "      <td>34018</td>\n",
       "    </tr>\n",
       "    <tr>\n",
       "      <th>2661</th>\n",
       "      <td>Hyderabad</td>\n",
       "      <td>01-10-2019</td>\n",
       "      <td>October</td>\n",
       "      <td>2019</td>\n",
       "      <td>28706</td>\n",
       "    </tr>\n",
       "    <tr>\n",
       "      <th>2662</th>\n",
       "      <td>Hyderabad</td>\n",
       "      <td>01-11-2019</td>\n",
       "      <td>November</td>\n",
       "      <td>2019</td>\n",
       "      <td>32762</td>\n",
       "    </tr>\n",
       "    <tr>\n",
       "      <th>2663</th>\n",
       "      <td>Hyderabad</td>\n",
       "      <td>01-12-2019</td>\n",
       "      <td>December</td>\n",
       "      <td>2019</td>\n",
       "      <td>34084</td>\n",
       "    </tr>\n",
       "  </tbody>\n",
       "</table>\n",
       "<p>96 rows × 5 columns</p>\n",
       "</div>"
      ],
      "text/plain": [
       "       district        date      month  year  visitors\n",
       "24    Hyderabad  01-01-2016    January  2016   1122510\n",
       "25    Hyderabad  01-02-2016   February  2016    778748\n",
       "26    Hyderabad  01-03-2016      March  2016   1017794\n",
       "27    Hyderabad  01-04-2016      April  2016   1127738\n",
       "28    Hyderabad  01-05-2016        May  2016   1287181\n",
       "...         ...         ...        ...   ...       ...\n",
       "2659  Hyderabad  01-08-2019     August  2019     22725\n",
       "2660  Hyderabad  01-09-2019  September  2019     34018\n",
       "2661  Hyderabad  01-10-2019    October  2019     28706\n",
       "2662  Hyderabad  01-11-2019   November  2019     32762\n",
       "2663  Hyderabad  01-12-2019   December  2019     34084\n",
       "\n",
       "[96 rows x 5 columns]"
      ]
     },
     "execution_count": 29,
     "metadata": {},
     "output_type": "execute_result"
    }
   ],
   "source": [
    "#filtering Hydrabad data\n",
    "hyd = total_visitor.loc[total_visitor['district']=='Hyderabad']\n",
    "hyd"
   ]
  },
  {
   "cell_type": "markdown",
   "id": "90f4cfac",
   "metadata": {},
   "source": [
    "# peak month season for hydrabad"
   ]
  },
  {
   "cell_type": "code",
   "execution_count": 30,
   "id": "c024e84d",
   "metadata": {},
   "outputs": [
    {
     "data": {
      "text/plain": [
       "'September'"
      ]
     },
     "execution_count": 30,
     "metadata": {},
     "output_type": "execute_result"
    }
   ],
   "source": [
    "hyd_month=hyd.groupby(['year']).max()\n",
    "peakmonth = hyd_month['month'].unique()[0]\n",
    "peakmonth"
   ]
  },
  {
   "cell_type": "markdown",
   "id": "c742a578",
   "metadata": {},
   "source": [
    "# low month season for hydrabad"
   ]
  },
  {
   "cell_type": "code",
   "execution_count": 31,
   "id": "1f7c8974",
   "metadata": {},
   "outputs": [
    {
     "data": {
      "text/plain": [
       "'April'"
      ]
     },
     "execution_count": 31,
     "metadata": {},
     "output_type": "execute_result"
    }
   ],
   "source": [
    "hyd_month=hyd.groupby(['year']).min()\n",
    "lowmonth = hyd_month['month'].unique()[0]\n",
    "lowmonth"
   ]
  },
  {
   "cell_type": "code",
   "execution_count": 32,
   "id": "186b7d66",
   "metadata": {},
   "outputs": [
    {
     "data": {
      "text/html": [
       "<div>\n",
       "<style scoped>\n",
       "    .dataframe tbody tr th:only-of-type {\n",
       "        vertical-align: middle;\n",
       "    }\n",
       "\n",
       "    .dataframe tbody tr th {\n",
       "        vertical-align: top;\n",
       "    }\n",
       "\n",
       "    .dataframe thead th {\n",
       "        text-align: right;\n",
       "    }\n",
       "</style>\n",
       "<table border=\"1\" class=\"dataframe\">\n",
       "  <thead>\n",
       "    <tr style=\"text-align: right;\">\n",
       "      <th></th>\n",
       "      <th>district</th>\n",
       "      <th>dome_visitors</th>\n",
       "    </tr>\n",
       "  </thead>\n",
       "  <tbody>\n",
       "    <tr>\n",
       "      <th>0</th>\n",
       "      <td>Adilabad</td>\n",
       "      <td>792136</td>\n",
       "    </tr>\n",
       "    <tr>\n",
       "      <th>1</th>\n",
       "      <td>Adilabad</td>\n",
       "      <td>937820</td>\n",
       "    </tr>\n",
       "    <tr>\n",
       "      <th>2</th>\n",
       "      <td>Adilabad</td>\n",
       "      <td>582946</td>\n",
       "    </tr>\n",
       "    <tr>\n",
       "      <th>3</th>\n",
       "      <td>Adilabad</td>\n",
       "      <td>341948</td>\n",
       "    </tr>\n",
       "    <tr>\n",
       "      <th>4</th>\n",
       "      <td>Adilabad</td>\n",
       "      <td>252887</td>\n",
       "    </tr>\n",
       "    <tr>\n",
       "      <th>...</th>\n",
       "      <td>...</td>\n",
       "      <td>...</td>\n",
       "    </tr>\n",
       "    <tr>\n",
       "      <th>1507</th>\n",
       "      <td>Yadadri Bhongir</td>\n",
       "      <td>389010</td>\n",
       "    </tr>\n",
       "    <tr>\n",
       "      <th>1508</th>\n",
       "      <td>Yadadri Bhongir</td>\n",
       "      <td>366862</td>\n",
       "    </tr>\n",
       "    <tr>\n",
       "      <th>1509</th>\n",
       "      <td>Yadadri Bhongir</td>\n",
       "      <td>381860</td>\n",
       "    </tr>\n",
       "    <tr>\n",
       "      <th>1510</th>\n",
       "      <td>Yadadri Bhongir</td>\n",
       "      <td>365990</td>\n",
       "    </tr>\n",
       "    <tr>\n",
       "      <th>1511</th>\n",
       "      <td>Yadadri Bhongir</td>\n",
       "      <td>477635</td>\n",
       "    </tr>\n",
       "  </tbody>\n",
       "</table>\n",
       "<p>1512 rows × 2 columns</p>\n",
       "</div>"
      ],
      "text/plain": [
       "             district  dome_visitors\n",
       "0            Adilabad         792136\n",
       "1            Adilabad         937820\n",
       "2            Adilabad         582946\n",
       "3            Adilabad         341948\n",
       "4            Adilabad         252887\n",
       "...               ...            ...\n",
       "1507  Yadadri Bhongir         389010\n",
       "1508  Yadadri Bhongir         366862\n",
       "1509  Yadadri Bhongir         381860\n",
       "1510  Yadadri Bhongir         365990\n",
       "1511  Yadadri Bhongir         477635\n",
       "\n",
       "[1512 rows x 2 columns]"
      ]
     },
     "execution_count": 32,
     "metadata": {},
     "output_type": "execute_result"
    }
   ],
   "source": [
    "dome = dv[['district','visitors']]\n",
    "dome=dome.rename(columns={'visitors': 'dome_visitors'})\n",
    "dome"
   ]
  },
  {
   "cell_type": "code",
   "execution_count": 33,
   "id": "ca3df12f",
   "metadata": {},
   "outputs": [
    {
     "data": {
      "text/html": [
       "<div>\n",
       "<style scoped>\n",
       "    .dataframe tbody tr th:only-of-type {\n",
       "        vertical-align: middle;\n",
       "    }\n",
       "\n",
       "    .dataframe tbody tr th {\n",
       "        vertical-align: top;\n",
       "    }\n",
       "\n",
       "    .dataframe thead th {\n",
       "        text-align: right;\n",
       "    }\n",
       "</style>\n",
       "<table border=\"1\" class=\"dataframe\">\n",
       "  <thead>\n",
       "    <tr style=\"text-align: right;\">\n",
       "      <th></th>\n",
       "      <th>district</th>\n",
       "      <th>fore_visitors</th>\n",
       "    </tr>\n",
       "  </thead>\n",
       "  <tbody>\n",
       "    <tr>\n",
       "      <th>0</th>\n",
       "      <td>Adilabad</td>\n",
       "      <td>2</td>\n",
       "    </tr>\n",
       "    <tr>\n",
       "      <th>1</th>\n",
       "      <td>Adilabad</td>\n",
       "      <td>0</td>\n",
       "    </tr>\n",
       "    <tr>\n",
       "      <th>2</th>\n",
       "      <td>Adilabad</td>\n",
       "      <td>2</td>\n",
       "    </tr>\n",
       "    <tr>\n",
       "      <th>3</th>\n",
       "      <td>Adilabad</td>\n",
       "      <td>0</td>\n",
       "    </tr>\n",
       "    <tr>\n",
       "      <th>4</th>\n",
       "      <td>Adilabad</td>\n",
       "      <td>0</td>\n",
       "    </tr>\n",
       "    <tr>\n",
       "      <th>...</th>\n",
       "      <td>...</td>\n",
       "      <td>...</td>\n",
       "    </tr>\n",
       "    <tr>\n",
       "      <th>1507</th>\n",
       "      <td>Yadadri Bhongir</td>\n",
       "      <td>0</td>\n",
       "    </tr>\n",
       "    <tr>\n",
       "      <th>1508</th>\n",
       "      <td>Yadadri Bhongir</td>\n",
       "      <td>0</td>\n",
       "    </tr>\n",
       "    <tr>\n",
       "      <th>1509</th>\n",
       "      <td>Yadadri Bhongir</td>\n",
       "      <td>0</td>\n",
       "    </tr>\n",
       "    <tr>\n",
       "      <th>1510</th>\n",
       "      <td>Yadadri Bhongir</td>\n",
       "      <td>0</td>\n",
       "    </tr>\n",
       "    <tr>\n",
       "      <th>1511</th>\n",
       "      <td>Yadadri Bhongir</td>\n",
       "      <td>0</td>\n",
       "    </tr>\n",
       "  </tbody>\n",
       "</table>\n",
       "<p>1512 rows × 2 columns</p>\n",
       "</div>"
      ],
      "text/plain": [
       "             district  fore_visitors\n",
       "0            Adilabad              2\n",
       "1            Adilabad              0\n",
       "2            Adilabad              2\n",
       "3            Adilabad              0\n",
       "4            Adilabad              0\n",
       "...               ...            ...\n",
       "1507  Yadadri Bhongir              0\n",
       "1508  Yadadri Bhongir              0\n",
       "1509  Yadadri Bhongir              0\n",
       "1510  Yadadri Bhongir              0\n",
       "1511  Yadadri Bhongir              0\n",
       "\n",
       "[1512 rows x 2 columns]"
      ]
     },
     "execution_count": 33,
     "metadata": {},
     "output_type": "execute_result"
    }
   ],
   "source": [
    "fore = fv[['district','visitors']]\n",
    "fore=fore.rename(columns={'visitors': 'fore_visitors'})\n",
    "fore"
   ]
  },
  {
   "cell_type": "code",
   "execution_count": 34,
   "id": "4d7681b9",
   "metadata": {},
   "outputs": [
    {
     "data": {
      "text/html": [
       "<div>\n",
       "<style scoped>\n",
       "    .dataframe tbody tr th:only-of-type {\n",
       "        vertical-align: middle;\n",
       "    }\n",
       "\n",
       "    .dataframe tbody tr th {\n",
       "        vertical-align: top;\n",
       "    }\n",
       "\n",
       "    .dataframe thead th {\n",
       "        text-align: right;\n",
       "    }\n",
       "</style>\n",
       "<table border=\"1\" class=\"dataframe\">\n",
       "  <thead>\n",
       "    <tr style=\"text-align: right;\">\n",
       "      <th></th>\n",
       "      <th>district</th>\n",
       "      <th>dome_visitors</th>\n",
       "      <th>district</th>\n",
       "      <th>fore_visitors</th>\n",
       "    </tr>\n",
       "  </thead>\n",
       "  <tbody>\n",
       "    <tr>\n",
       "      <th>0</th>\n",
       "      <td>Adilabad</td>\n",
       "      <td>792136</td>\n",
       "      <td>Adilabad</td>\n",
       "      <td>2</td>\n",
       "    </tr>\n",
       "    <tr>\n",
       "      <th>1</th>\n",
       "      <td>Adilabad</td>\n",
       "      <td>937820</td>\n",
       "      <td>Adilabad</td>\n",
       "      <td>0</td>\n",
       "    </tr>\n",
       "    <tr>\n",
       "      <th>2</th>\n",
       "      <td>Adilabad</td>\n",
       "      <td>582946</td>\n",
       "      <td>Adilabad</td>\n",
       "      <td>2</td>\n",
       "    </tr>\n",
       "    <tr>\n",
       "      <th>3</th>\n",
       "      <td>Adilabad</td>\n",
       "      <td>341948</td>\n",
       "      <td>Adilabad</td>\n",
       "      <td>0</td>\n",
       "    </tr>\n",
       "    <tr>\n",
       "      <th>4</th>\n",
       "      <td>Adilabad</td>\n",
       "      <td>252887</td>\n",
       "      <td>Adilabad</td>\n",
       "      <td>0</td>\n",
       "    </tr>\n",
       "    <tr>\n",
       "      <th>...</th>\n",
       "      <td>...</td>\n",
       "      <td>...</td>\n",
       "      <td>...</td>\n",
       "      <td>...</td>\n",
       "    </tr>\n",
       "    <tr>\n",
       "      <th>1507</th>\n",
       "      <td>Yadadri Bhongir</td>\n",
       "      <td>389010</td>\n",
       "      <td>Yadadri Bhongir</td>\n",
       "      <td>0</td>\n",
       "    </tr>\n",
       "    <tr>\n",
       "      <th>1508</th>\n",
       "      <td>Yadadri Bhongir</td>\n",
       "      <td>366862</td>\n",
       "      <td>Yadadri Bhongir</td>\n",
       "      <td>0</td>\n",
       "    </tr>\n",
       "    <tr>\n",
       "      <th>1509</th>\n",
       "      <td>Yadadri Bhongir</td>\n",
       "      <td>381860</td>\n",
       "      <td>Yadadri Bhongir</td>\n",
       "      <td>0</td>\n",
       "    </tr>\n",
       "    <tr>\n",
       "      <th>1510</th>\n",
       "      <td>Yadadri Bhongir</td>\n",
       "      <td>365990</td>\n",
       "      <td>Yadadri Bhongir</td>\n",
       "      <td>0</td>\n",
       "    </tr>\n",
       "    <tr>\n",
       "      <th>1511</th>\n",
       "      <td>Yadadri Bhongir</td>\n",
       "      <td>477635</td>\n",
       "      <td>Yadadri Bhongir</td>\n",
       "      <td>0</td>\n",
       "    </tr>\n",
       "  </tbody>\n",
       "</table>\n",
       "<p>1512 rows × 4 columns</p>\n",
       "</div>"
      ],
      "text/plain": [
       "             district  dome_visitors         district  fore_visitors\n",
       "0            Adilabad         792136         Adilabad              2\n",
       "1            Adilabad         937820         Adilabad              0\n",
       "2            Adilabad         582946         Adilabad              2\n",
       "3            Adilabad         341948         Adilabad              0\n",
       "4            Adilabad         252887         Adilabad              0\n",
       "...               ...            ...              ...            ...\n",
       "1507  Yadadri Bhongir         389010  Yadadri Bhongir              0\n",
       "1508  Yadadri Bhongir         366862  Yadadri Bhongir              0\n",
       "1509  Yadadri Bhongir         381860  Yadadri Bhongir              0\n",
       "1510  Yadadri Bhongir         365990  Yadadri Bhongir              0\n",
       "1511  Yadadri Bhongir         477635  Yadadri Bhongir              0\n",
       "\n",
       "[1512 rows x 4 columns]"
      ]
     },
     "execution_count": 34,
     "metadata": {},
     "output_type": "execute_result"
    }
   ],
   "source": [
    "merged = pd.concat([dome,fore],axis=1, ignore_index=False)\n",
    "merged"
   ]
  },
  {
   "cell_type": "code",
   "execution_count": 35,
   "id": "d4c5106a",
   "metadata": {},
   "outputs": [
    {
     "data": {
      "text/html": [
       "<div>\n",
       "<style scoped>\n",
       "    .dataframe tbody tr th:only-of-type {\n",
       "        vertical-align: middle;\n",
       "    }\n",
       "\n",
       "    .dataframe tbody tr th {\n",
       "        vertical-align: top;\n",
       "    }\n",
       "\n",
       "    .dataframe thead th {\n",
       "        text-align: right;\n",
       "    }\n",
       "</style>\n",
       "<table border=\"1\" class=\"dataframe\">\n",
       "  <thead>\n",
       "    <tr style=\"text-align: right;\">\n",
       "      <th></th>\n",
       "      <th>district</th>\n",
       "      <th>dome_visitors</th>\n",
       "      <th>fore_visitors</th>\n",
       "    </tr>\n",
       "  </thead>\n",
       "  <tbody>\n",
       "    <tr>\n",
       "      <th>0</th>\n",
       "      <td>Adilabad</td>\n",
       "      <td>792136</td>\n",
       "      <td>2</td>\n",
       "    </tr>\n",
       "    <tr>\n",
       "      <th>1</th>\n",
       "      <td>Adilabad</td>\n",
       "      <td>937820</td>\n",
       "      <td>0</td>\n",
       "    </tr>\n",
       "    <tr>\n",
       "      <th>2</th>\n",
       "      <td>Adilabad</td>\n",
       "      <td>582946</td>\n",
       "      <td>2</td>\n",
       "    </tr>\n",
       "    <tr>\n",
       "      <th>3</th>\n",
       "      <td>Adilabad</td>\n",
       "      <td>341948</td>\n",
       "      <td>0</td>\n",
       "    </tr>\n",
       "    <tr>\n",
       "      <th>4</th>\n",
       "      <td>Adilabad</td>\n",
       "      <td>252887</td>\n",
       "      <td>0</td>\n",
       "    </tr>\n",
       "    <tr>\n",
       "      <th>...</th>\n",
       "      <td>...</td>\n",
       "      <td>...</td>\n",
       "      <td>...</td>\n",
       "    </tr>\n",
       "    <tr>\n",
       "      <th>1507</th>\n",
       "      <td>Yadadri Bhongir</td>\n",
       "      <td>389010</td>\n",
       "      <td>0</td>\n",
       "    </tr>\n",
       "    <tr>\n",
       "      <th>1508</th>\n",
       "      <td>Yadadri Bhongir</td>\n",
       "      <td>366862</td>\n",
       "      <td>0</td>\n",
       "    </tr>\n",
       "    <tr>\n",
       "      <th>1509</th>\n",
       "      <td>Yadadri Bhongir</td>\n",
       "      <td>381860</td>\n",
       "      <td>0</td>\n",
       "    </tr>\n",
       "    <tr>\n",
       "      <th>1510</th>\n",
       "      <td>Yadadri Bhongir</td>\n",
       "      <td>365990</td>\n",
       "      <td>0</td>\n",
       "    </tr>\n",
       "    <tr>\n",
       "      <th>1511</th>\n",
       "      <td>Yadadri Bhongir</td>\n",
       "      <td>477635</td>\n",
       "      <td>0</td>\n",
       "    </tr>\n",
       "  </tbody>\n",
       "</table>\n",
       "<p>1512 rows × 3 columns</p>\n",
       "</div>"
      ],
      "text/plain": [
       "             district  dome_visitors  fore_visitors\n",
       "0            Adilabad         792136              2\n",
       "1            Adilabad         937820              0\n",
       "2            Adilabad         582946              2\n",
       "3            Adilabad         341948              0\n",
       "4            Adilabad         252887              0\n",
       "...               ...            ...            ...\n",
       "1507  Yadadri Bhongir         389010              0\n",
       "1508  Yadadri Bhongir         366862              0\n",
       "1509  Yadadri Bhongir         381860              0\n",
       "1510  Yadadri Bhongir         365990              0\n",
       "1511  Yadadri Bhongir         477635              0\n",
       "\n",
       "[1512 rows x 3 columns]"
      ]
     },
     "execution_count": 35,
     "metadata": {},
     "output_type": "execute_result"
    }
   ],
   "source": [
    "merged = merged.loc[:,~merged.columns.duplicated()]\n",
    "merged"
   ]
  },
  {
   "cell_type": "code",
   "execution_count": 36,
   "id": "7f5bab2f",
   "metadata": {},
   "outputs": [
    {
     "data": {
      "text/html": [
       "<div>\n",
       "<style scoped>\n",
       "    .dataframe tbody tr th:only-of-type {\n",
       "        vertical-align: middle;\n",
       "    }\n",
       "\n",
       "    .dataframe tbody tr th {\n",
       "        vertical-align: top;\n",
       "    }\n",
       "\n",
       "    .dataframe thead th {\n",
       "        text-align: right;\n",
       "    }\n",
       "</style>\n",
       "<table border=\"1\" class=\"dataframe\">\n",
       "  <thead>\n",
       "    <tr style=\"text-align: right;\">\n",
       "      <th></th>\n",
       "      <th>dome_visitors</th>\n",
       "      <th>fore_visitors</th>\n",
       "    </tr>\n",
       "    <tr>\n",
       "      <th>district</th>\n",
       "      <th></th>\n",
       "      <th></th>\n",
       "    </tr>\n",
       "  </thead>\n",
       "  <tbody>\n",
       "    <tr>\n",
       "      <th>Adilabad</th>\n",
       "      <td>7321575</td>\n",
       "      <td>32</td>\n",
       "    </tr>\n",
       "    <tr>\n",
       "      <th>Bhadradri Kothagudem</th>\n",
       "      <td>21600962</td>\n",
       "      <td>0</td>\n",
       "    </tr>\n",
       "    <tr>\n",
       "      <th>Hyderabad</th>\n",
       "      <td>83900960</td>\n",
       "      <td>1044898</td>\n",
       "    </tr>\n",
       "    <tr>\n",
       "      <th>Jagtial</th>\n",
       "      <td>11303514</td>\n",
       "      <td>0</td>\n",
       "    </tr>\n",
       "    <tr>\n",
       "      <th>Jangaon</th>\n",
       "      <td>826280</td>\n",
       "      <td>2</td>\n",
       "    </tr>\n",
       "    <tr>\n",
       "      <th>Jayashankar Bhoopalpally</th>\n",
       "      <td>19632865</td>\n",
       "      <td>1252</td>\n",
       "    </tr>\n",
       "    <tr>\n",
       "      <th>Jogulamba Gadwal</th>\n",
       "      <td>6813340</td>\n",
       "      <td>945</td>\n",
       "    </tr>\n",
       "    <tr>\n",
       "      <th>Kamareddy</th>\n",
       "      <td>1773</td>\n",
       "      <td>0</td>\n",
       "    </tr>\n",
       "    <tr>\n",
       "      <th>Karimnagar</th>\n",
       "      <td>9462383</td>\n",
       "      <td>0</td>\n",
       "    </tr>\n",
       "    <tr>\n",
       "      <th>Khammam</th>\n",
       "      <td>9378315</td>\n",
       "      <td>0</td>\n",
       "    </tr>\n",
       "    <tr>\n",
       "      <th>Komaram Bheem Asifabad</th>\n",
       "      <td>92734</td>\n",
       "      <td>0</td>\n",
       "    </tr>\n",
       "    <tr>\n",
       "      <th>Mahabubabad</th>\n",
       "      <td>600697</td>\n",
       "      <td>0</td>\n",
       "    </tr>\n",
       "    <tr>\n",
       "      <th>Mahbubnagar</th>\n",
       "      <td>17180118</td>\n",
       "      <td>2282</td>\n",
       "    </tr>\n",
       "    <tr>\n",
       "      <th>Mancherial</th>\n",
       "      <td>867242</td>\n",
       "      <td>10</td>\n",
       "    </tr>\n",
       "    <tr>\n",
       "      <th>Medak</th>\n",
       "      <td>20542639</td>\n",
       "      <td>0</td>\n",
       "    </tr>\n",
       "    <tr>\n",
       "      <th>Medchal</th>\n",
       "      <td>0</td>\n",
       "      <td>0</td>\n",
       "    </tr>\n",
       "    <tr>\n",
       "      <th>Mulugu</th>\n",
       "      <td>1819800</td>\n",
       "      <td>575</td>\n",
       "    </tr>\n",
       "    <tr>\n",
       "      <th>Nagarkurnool</th>\n",
       "      <td>7424355</td>\n",
       "      <td>761</td>\n",
       "    </tr>\n",
       "    <tr>\n",
       "      <th>Nalgonda</th>\n",
       "      <td>6401933</td>\n",
       "      <td>0</td>\n",
       "    </tr>\n",
       "    <tr>\n",
       "      <th>Narayanapet</th>\n",
       "      <td>389250</td>\n",
       "      <td>5</td>\n",
       "    </tr>\n",
       "    <tr>\n",
       "      <th>Nirmal</th>\n",
       "      <td>13315796</td>\n",
       "      <td>2</td>\n",
       "    </tr>\n",
       "    <tr>\n",
       "      <th>Nizamabad</th>\n",
       "      <td>116147</td>\n",
       "      <td>5</td>\n",
       "    </tr>\n",
       "    <tr>\n",
       "      <th>Peddapalli</th>\n",
       "      <td>56977</td>\n",
       "      <td>0</td>\n",
       "    </tr>\n",
       "    <tr>\n",
       "      <th>Rajanna Sircilla</th>\n",
       "      <td>41763276</td>\n",
       "      <td>0</td>\n",
       "    </tr>\n",
       "    <tr>\n",
       "      <th>Ranga Reddy</th>\n",
       "      <td>0</td>\n",
       "      <td>0</td>\n",
       "    </tr>\n",
       "    <tr>\n",
       "      <th>Sangareddy</th>\n",
       "      <td>10424510</td>\n",
       "      <td>0</td>\n",
       "    </tr>\n",
       "    <tr>\n",
       "      <th>Siddipet</th>\n",
       "      <td>5775285</td>\n",
       "      <td>0</td>\n",
       "    </tr>\n",
       "    <tr>\n",
       "      <th>Suryapet</th>\n",
       "      <td>0</td>\n",
       "      <td>0</td>\n",
       "    </tr>\n",
       "    <tr>\n",
       "      <th>Vikarabad</th>\n",
       "      <td>0</td>\n",
       "      <td>0</td>\n",
       "    </tr>\n",
       "    <tr>\n",
       "      <th>Wanaparthy</th>\n",
       "      <td>890078</td>\n",
       "      <td>0</td>\n",
       "    </tr>\n",
       "    <tr>\n",
       "      <th>Warangal (Rural)</th>\n",
       "      <td>819162</td>\n",
       "      <td>306</td>\n",
       "    </tr>\n",
       "    <tr>\n",
       "      <th>Warangal (Urban)</th>\n",
       "      <td>30726603</td>\n",
       "      <td>8821</td>\n",
       "    </tr>\n",
       "    <tr>\n",
       "      <th>Yadadri Bhongir</th>\n",
       "      <td>26893080</td>\n",
       "      <td>0</td>\n",
       "    </tr>\n",
       "  </tbody>\n",
       "</table>\n",
       "</div>"
      ],
      "text/plain": [
       "                          dome_visitors  fore_visitors\n",
       "district                                              \n",
       "Adilabad                        7321575             32\n",
       "Bhadradri Kothagudem           21600962              0\n",
       "Hyderabad                      83900960        1044898\n",
       "Jagtial                        11303514              0\n",
       "Jangaon                          826280              2\n",
       "Jayashankar Bhoopalpally       19632865           1252\n",
       "Jogulamba Gadwal                6813340            945\n",
       "Kamareddy                          1773              0\n",
       "Karimnagar                      9462383              0\n",
       "Khammam                         9378315              0\n",
       "Komaram Bheem Asifabad            92734              0\n",
       "Mahabubabad                      600697              0\n",
       "Mahbubnagar                    17180118           2282\n",
       "Mancherial                       867242             10\n",
       "Medak                          20542639              0\n",
       "Medchal                               0              0\n",
       "Mulugu                          1819800            575\n",
       "Nagarkurnool                    7424355            761\n",
       "Nalgonda                        6401933              0\n",
       "Narayanapet                      389250              5\n",
       "Nirmal                         13315796              2\n",
       "Nizamabad                        116147              5\n",
       "Peddapalli                        56977              0\n",
       "Rajanna Sircilla               41763276              0\n",
       "Ranga Reddy                           0              0\n",
       "Sangareddy                     10424510              0\n",
       "Siddipet                        5775285              0\n",
       "Suryapet                              0              0\n",
       "Vikarabad                             0              0\n",
       "Wanaparthy                       890078              0\n",
       "Warangal (Rural)                 819162            306\n",
       "Warangal (Urban)               30726603           8821\n",
       "Yadadri Bhongir                26893080              0"
      ]
     },
     "execution_count": 36,
     "metadata": {},
     "output_type": "execute_result"
    }
   ],
   "source": [
    "merged=merged.groupby(['district']).sum()\n",
    "merged"
   ]
  },
  {
   "cell_type": "markdown",
   "id": "acfa5475",
   "metadata": {},
   "source": [
    "Domestic to Foreign Tourist Ratio = Number of Domestic Tourists / Number of Foreign Tourists\n",
    "\n"
   ]
  },
  {
   "cell_type": "code",
   "execution_count": 37,
   "id": "20d3062c",
   "metadata": {},
   "outputs": [],
   "source": [
    "merged['Domestic_to_Foreign_Tourist_Ratio'] = merged['dome_visitors']/merged['fore_visitors']"
   ]
  },
  {
   "cell_type": "code",
   "execution_count": 38,
   "id": "9a8a6982",
   "metadata": {},
   "outputs": [],
   "source": [
    "merged.sort_values(by='Domestic_to_Foreign_Tourist_Ratio', axis=0, ascending=False, inplace=True)"
   ]
  },
  {
   "cell_type": "code",
   "execution_count": 39,
   "id": "7ad3f1fb",
   "metadata": {},
   "outputs": [],
   "source": [
    "#merged['Domestic_to_Foreign_Tourist_Ratio']=merged['Domestic_to_Foreign_Tourist_Ratio'].astype(int)"
   ]
  },
  {
   "cell_type": "markdown",
   "id": "6ebf58b8",
   "metadata": {},
   "source": [
    "# top 3 Domestic_to_Foreign_Tourist_Ratio"
   ]
  },
  {
   "cell_type": "code",
   "execution_count": 40,
   "id": "94dfc344",
   "metadata": {},
   "outputs": [
    {
     "data": {
      "text/plain": [
       "district\n",
       "Medak                     inf\n",
       "Komaram Bheem Asifabad    inf\n",
       "Wanaparthy                inf\n",
       "Name: Domestic_to_Foreign_Tourist_Ratio, dtype: float64"
      ]
     },
     "execution_count": 40,
     "metadata": {},
     "output_type": "execute_result"
    }
   ],
   "source": [
    "merged['Domestic_to_Foreign_Tourist_Ratio'].head(3)"
   ]
  },
  {
   "cell_type": "markdown",
   "id": "7f2f7660",
   "metadata": {},
   "source": [
    "# bottom 3 Domestic_to_Foreign_Tourist_Ratio"
   ]
  },
  {
   "cell_type": "code",
   "execution_count": 41,
   "id": "36678f49",
   "metadata": {},
   "outputs": [
    {
     "data": {
      "text/plain": [
       "district\n",
       "Ranga Reddy   NaN\n",
       "Suryapet      NaN\n",
       "Vikarabad     NaN\n",
       "Name: Domestic_to_Foreign_Tourist_Ratio, dtype: float64"
      ]
     },
     "execution_count": 41,
     "metadata": {},
     "output_type": "execute_result"
    }
   ],
   "source": [
    "merged['Domestic_to_Foreign_Tourist_Ratio'].tail(3)"
   ]
  },
  {
   "cell_type": "code",
   "execution_count": 42,
   "id": "d1743687",
   "metadata": {},
   "outputs": [],
   "source": [
    "#to select non zero data\n",
    "#merged.drop(merged[merged['fore_visitors'] == 0].index, axis=0)"
   ]
  },
  {
   "cell_type": "markdown",
   "id": "aa0c2794",
   "metadata": {},
   "source": [
    "# top 5 district based on population to tourist footfall ratio"
   ]
  },
  {
   "cell_type": "code",
   "execution_count": 43,
   "id": "2dc91256",
   "metadata": {},
   "outputs": [
    {
     "data": {
      "text/plain": [
       "district\n",
       "Hyderabad                0.061242\n",
       "Rajanna Sircilla         0.030484\n",
       "Warangal (Urban)         0.022428\n",
       "Yadadri Bhongir          0.019630\n",
       "Bhadradri Kothagudem     0.015767\n",
       "Name: dome_visitors, dtype: float64"
      ]
     },
     "execution_count": 43,
     "metadata": {},
     "output_type": "execute_result"
    }
   ],
   "source": [
    "mg = merged['dome_visitors']/1370000000\n",
    "mg.sort_values(ascending=False).head(5)"
   ]
  },
  {
   "cell_type": "markdown",
   "id": "70755afe",
   "metadata": {},
   "source": [
    "# bottom 5 district based on population to tourist footfall ratio"
   ]
  },
  {
   "cell_type": "code",
   "execution_count": 44,
   "id": "c5755218",
   "metadata": {},
   "outputs": [
    {
     "data": {
      "text/plain": [
       "district\n",
       "Kamareddy      0.000001\n",
       "Medchal        0.000000\n",
       "Ranga Reddy    0.000000\n",
       "Suryapet       0.000000\n",
       "Vikarabad      0.000000\n",
       "Name: dome_visitors, dtype: float64"
      ]
     },
     "execution_count": 44,
     "metadata": {},
     "output_type": "execute_result"
    }
   ],
   "source": [
    "mg = merged['dome_visitors']/1370000000\n",
    "mg.sort_values(ascending=False).tail(5)"
   ]
  },
  {
   "cell_type": "code",
   "execution_count": 45,
   "id": "d22768f4",
   "metadata": {},
   "outputs": [
    {
     "data": {
      "text/plain": [
       "year\n",
       "2016    95160830\n",
       "2017    85266596\n",
       "2018    92878329\n",
       "2019    83035894\n",
       "Name: visitors, dtype: int32"
      ]
     },
     "execution_count": 45,
     "metadata": {},
     "output_type": "execute_result"
    }
   ],
   "source": [
    "gth=dv.groupby(['year'])['visitors'].sum()\n",
    "gth"
   ]
  },
  {
   "cell_type": "code",
   "execution_count": 46,
   "id": "6977ce3b",
   "metadata": {},
   "outputs": [
    {
     "data": {
      "text/plain": [
       "(-10.4, 8.9, -10.6)"
      ]
     },
     "execution_count": 46,
     "metadata": {},
     "output_type": "execute_result"
    }
   ],
   "source": [
    "gr16_17=round((gth[2017]-gth[2016])/gth[2016]*100,1)\n",
    "gr17_18=round((gth[2018]-gth[2017])/gth[2017]*100,1)\n",
    "gr18_19=round((gth[2019]-gth[2018])/gth[2018]*100,1)\n",
    "gr16_17,gr17_18, gr18_19"
   ]
  },
  {
   "cell_type": "code",
   "execution_count": 47,
   "id": "689c3e80",
   "metadata": {},
   "outputs": [],
   "source": [
    "mean = gr16_17+gr17_18+gr18_19/3"
   ]
  },
  {
   "cell_type": "code",
   "execution_count": 48,
   "id": "916d19ff",
   "metadata": {},
   "outputs": [
    {
     "name": "stdout",
     "output_type": "stream",
     "text": [
      "Projected tourists in 2020: 78859189\n",
      "Projected tourists in 2021: 74892571\n",
      "Projected tourists in 2022: 71125475\n",
      "Projected tourists in 2023: 67547864\n",
      "Projected tourists in 2024: 64150206\n",
      "Projected tourists in 2025: 60923451\n"
     ]
    }
   ],
   "source": [
    "# Define the initial number of tourists and the growth rate\n",
    "initial_tourists = gth[2019]  # replace with actual data\n",
    "growth_rate = -.0503  # 5% growth rate per year\n",
    "\n",
    "# Define the number of years for projection\n",
    "projection_years = 6  # 2022, 2023, 2024, 2025\n",
    "\n",
    "# Calculate the projected number of tourists for each year\n",
    "for year in range(2020, 2020 + projection_years):\n",
    "    projected_tourists = initial_tourists * (1 + growth_rate) ** (year - 2019)\n",
    "    print(f\"Projected tourists in {year}: {projected_tourists:.0f}\")"
   ]
  },
  {
   "cell_type": "code",
   "execution_count": 49,
   "id": "04b9f5a3",
   "metadata": {},
   "outputs": [],
   "source": [
    "domestic_visitor = dv.to_excel('H:\\prafull\\LEARNING\\SQL\\CHALLANGES\\C5 Input for participants\\domestic_visitor_clean.xlsx', sheet_name='Sheet1', index=False)"
   ]
  },
  {
   "cell_type": "code",
   "execution_count": 50,
   "id": "c5d0c226",
   "metadata": {},
   "outputs": [],
   "source": [
    "foreign_visitors = dv.to_excel('H:\\prafull\\LEARNING\\SQL\\CHALLANGES\\C5 Input for participants\\\\foreign_visitors_clean.xlsx', sheet_name='Sheet1', index=False)"
   ]
  },
  {
   "cell_type": "code",
   "execution_count": 99,
   "id": "0eadf1bd",
   "metadata": {},
   "outputs": [
    {
     "data": {
      "text/html": [
       "<div>\n",
       "<style scoped>\n",
       "    .dataframe tbody tr th:only-of-type {\n",
       "        vertical-align: middle;\n",
       "    }\n",
       "\n",
       "    .dataframe tbody tr th {\n",
       "        vertical-align: top;\n",
       "    }\n",
       "\n",
       "    .dataframe thead th {\n",
       "        text-align: right;\n",
       "    }\n",
       "</style>\n",
       "<table border=\"1\" class=\"dataframe\">\n",
       "  <thead>\n",
       "    <tr style=\"text-align: right;\">\n",
       "      <th></th>\n",
       "      <th>district</th>\n",
       "      <th>dome_visitors</th>\n",
       "      <th>fore_visitors</th>\n",
       "    </tr>\n",
       "  </thead>\n",
       "  <tbody>\n",
       "    <tr>\n",
       "      <th>0</th>\n",
       "      <td>Adilabad</td>\n",
       "      <td>792136</td>\n",
       "      <td>2</td>\n",
       "    </tr>\n",
       "    <tr>\n",
       "      <th>1</th>\n",
       "      <td>Adilabad</td>\n",
       "      <td>937820</td>\n",
       "      <td>0</td>\n",
       "    </tr>\n",
       "    <tr>\n",
       "      <th>2</th>\n",
       "      <td>Adilabad</td>\n",
       "      <td>582946</td>\n",
       "      <td>2</td>\n",
       "    </tr>\n",
       "    <tr>\n",
       "      <th>3</th>\n",
       "      <td>Adilabad</td>\n",
       "      <td>341948</td>\n",
       "      <td>0</td>\n",
       "    </tr>\n",
       "    <tr>\n",
       "      <th>4</th>\n",
       "      <td>Adilabad</td>\n",
       "      <td>252887</td>\n",
       "      <td>0</td>\n",
       "    </tr>\n",
       "    <tr>\n",
       "      <th>...</th>\n",
       "      <td>...</td>\n",
       "      <td>...</td>\n",
       "      <td>...</td>\n",
       "    </tr>\n",
       "    <tr>\n",
       "      <th>1507</th>\n",
       "      <td>Yadadri Bhongir</td>\n",
       "      <td>389010</td>\n",
       "      <td>0</td>\n",
       "    </tr>\n",
       "    <tr>\n",
       "      <th>1508</th>\n",
       "      <td>Yadadri Bhongir</td>\n",
       "      <td>366862</td>\n",
       "      <td>0</td>\n",
       "    </tr>\n",
       "    <tr>\n",
       "      <th>1509</th>\n",
       "      <td>Yadadri Bhongir</td>\n",
       "      <td>381860</td>\n",
       "      <td>0</td>\n",
       "    </tr>\n",
       "    <tr>\n",
       "      <th>1510</th>\n",
       "      <td>Yadadri Bhongir</td>\n",
       "      <td>365990</td>\n",
       "      <td>0</td>\n",
       "    </tr>\n",
       "    <tr>\n",
       "      <th>1511</th>\n",
       "      <td>Yadadri Bhongir</td>\n",
       "      <td>477635</td>\n",
       "      <td>0</td>\n",
       "    </tr>\n",
       "  </tbody>\n",
       "</table>\n",
       "<p>1512 rows × 3 columns</p>\n",
       "</div>"
      ],
      "text/plain": [
       "             district  dome_visitors  fore_visitors\n",
       "0            Adilabad         792136              2\n",
       "1            Adilabad         937820              0\n",
       "2            Adilabad         582946              2\n",
       "3            Adilabad         341948              0\n",
       "4            Adilabad         252887              0\n",
       "...               ...            ...            ...\n",
       "1507  Yadadri Bhongir         389010              0\n",
       "1508  Yadadri Bhongir         366862              0\n",
       "1509  Yadadri Bhongir         381860              0\n",
       "1510  Yadadri Bhongir         365990              0\n",
       "1511  Yadadri Bhongir         477635              0\n",
       "\n",
       "[1512 rows x 3 columns]"
      ]
     },
     "execution_count": 99,
     "metadata": {},
     "output_type": "execute_result"
    }
   ],
   "source": [
    "hj=pd.concat([dome,fore],axis=1, ignore_index=False)\n",
    "hj = hj.loc[:,~hj.columns.duplicated()]\n",
    "hj"
   ]
  },
  {
   "cell_type": "code",
   "execution_count": 105,
   "id": "6bc9c26b",
   "metadata": {},
   "outputs": [],
   "source": [
    "hj=hj.groupby(['district']).sum()\n",
    "size=hj['dome_visitors'].sort_values(ascending=False).head(5)\n",
    "label=size.index"
   ]
  },
  {
   "cell_type": "code",
   "execution_count": 106,
   "id": "b670b58f",
   "metadata": {},
   "outputs": [
    {
     "data": {
      "image/png": "[encoded data removed]",
      "text/plain": [
       "<Figure size 640x480 with 1 Axes>"
      ]
     },
     "metadata": {},
     "output_type": "display_data"
    }
   ],
   "source": [
    "# Create bar chart\n",
    "plt.bar(label, size)\n",
    "\n",
    "# Add title and labels\n",
    "plt.title('Bar Chart Example')\n",
    "plt.xlabel('X-axis')\n",
    "plt.ylabel('Y-axis')\n",
    "\n",
    "# Display the chart\n",
    "plt.show()"
   ]
  },
  {
   "cell_type": "code",
   "execution_count": 107,
   "id": "4a3fd5ce",
   "metadata": {},
   "outputs": [
    {
     "data": {
      "image/png": "[encoded data removed]",
      "text/plain": [
       "<Figure size 640x480 with 1 Axes>"
      ]
     },
     "metadata": {},
     "output_type": "display_data"
    }
   ],
   "source": [
    "# Create pie chart\n",
    "plt.pie(size, labels=label, autopct='%1.1f%%')\n",
    "\n",
    "# Show plot\n",
    "plt.show()"
   ]
  },
  {
   "cell_type": "code",
   "execution_count": null,
   "id": "a1f6a418",
   "metadata": {},
   "outputs": [],
   "source": []
  }
 ],
 "metadata": {
  "kernelspec": {
   "display_name": "Python 3 (ipykernel)",
   "language": "python",
   "name": "python3"
  },
  "language_info": {
   "codemirror_mode": {
    "name": "ipython",
    "version": 3
   },
   "file_extension": ".py",
   "mimetype": "text/x-python",
   "name": "python",
   "nbconvert_exporter": "python",
   "pygments_lexer": "ipython3",
   "version": "3.9.13"
  }
 },
 "nbformat": 4,
 "nbformat_minor": 5
}
